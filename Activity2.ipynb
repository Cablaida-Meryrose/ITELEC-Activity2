{
 "cells": [
  {
   "cell_type": "markdown",
   "id": "765cf7c3-f611-46fc-b31b-72596a727aa7",
   "metadata": {},
   "source": [
    "<h1>Activity 2: UK Road Accident Data Analytics Project</h1>\n",
    "<hr>\n",
    "<h3>Analyst : Mery Rose Cablaida</h3>\n"
   ]
  },
  {
   "cell_type": "code",
   "execution_count": 1,
   "id": "22d9d5a3-74e0-48c9-9057-0bd71f4020e3",
   "metadata": {},
   "outputs": [],
   "source": [
    "import numpy as np\n",
    "import pandas as pd\n",
    "# from sklearn.impute import KNNImputer\n",
    "from scipy.stats import f_oneway\n",
    "import matplotlib.pyplot as plt\n",
    "import warnings\n",
    "warnings.filterwarnings('ignore')\n"
   ]
  },
  {
   "cell_type": "markdown",
   "id": "b1a814c3-9d6c-494f-8a2e-191d7b3ba219",
   "metadata": {},
   "source": [
    "<h3>Converting dataset(s) into Data Frame</h3>"
   ]
  },
  {
   "cell_type": "code",
   "execution_count": 2,
   "id": "7c36d499-d64f-4bd7-9ec3-cd3691a4fbde",
   "metadata": {
    "scrolled": true
   },
   "outputs": [
    {
     "data": {
      "text/html": [
       "<div>\n",
       "<style scoped>\n",
       "    .dataframe tbody tr th:only-of-type {\n",
       "        vertical-align: middle;\n",
       "    }\n",
       "\n",
       "    .dataframe tbody tr th {\n",
       "        vertical-align: top;\n",
       "    }\n",
       "\n",
       "    .dataframe thead th {\n",
       "        text-align: right;\n",
       "    }\n",
       "</style>\n",
       "<table border=\"1\" class=\"dataframe\">\n",
       "  <thead>\n",
       "    <tr style=\"text-align: right;\">\n",
       "      <th></th>\n",
       "      <th>Index</th>\n",
       "      <th>Accident_Severity</th>\n",
       "      <th>Accident Date</th>\n",
       "      <th>Latitude</th>\n",
       "      <th>Light_Conditions</th>\n",
       "      <th>District Area</th>\n",
       "      <th>Longitude</th>\n",
       "      <th>Number_of_Casualties</th>\n",
       "      <th>Number_of_Vehicles</th>\n",
       "      <th>Road_Surface_Conditions</th>\n",
       "      <th>Road_Type</th>\n",
       "      <th>Urban_or_Rural_Area</th>\n",
       "      <th>Weather_Conditions</th>\n",
       "      <th>Vehicle_Type</th>\n",
       "    </tr>\n",
       "  </thead>\n",
       "  <tbody>\n",
       "    <tr>\n",
       "      <th>0</th>\n",
       "      <td>200701BS64157</td>\n",
       "      <td>Serious</td>\n",
       "      <td>5/6/2019</td>\n",
       "      <td>51.506187</td>\n",
       "      <td>Darkness - lights lit</td>\n",
       "      <td>Kensington and Chelsea</td>\n",
       "      <td>-0.209082</td>\n",
       "      <td>1</td>\n",
       "      <td>2</td>\n",
       "      <td>Dry</td>\n",
       "      <td>Single carriageway</td>\n",
       "      <td>Urban</td>\n",
       "      <td>Fine no high winds</td>\n",
       "      <td>Car</td>\n",
       "    </tr>\n",
       "    <tr>\n",
       "      <th>1</th>\n",
       "      <td>200701BS65737</td>\n",
       "      <td>Serious</td>\n",
       "      <td>2/7/2019</td>\n",
       "      <td>51.495029</td>\n",
       "      <td>Daylight</td>\n",
       "      <td>Kensington and Chelsea</td>\n",
       "      <td>-0.173647</td>\n",
       "      <td>1</td>\n",
       "      <td>2</td>\n",
       "      <td>Wet or damp</td>\n",
       "      <td>Single carriageway</td>\n",
       "      <td>Urban</td>\n",
       "      <td>Raining no high winds</td>\n",
       "      <td>Car</td>\n",
       "    </tr>\n",
       "    <tr>\n",
       "      <th>2</th>\n",
       "      <td>200701BS66127</td>\n",
       "      <td>Serious</td>\n",
       "      <td>26-08-2019</td>\n",
       "      <td>51.517715</td>\n",
       "      <td>Darkness - lighting unknown</td>\n",
       "      <td>Kensington and Chelsea</td>\n",
       "      <td>-0.210215</td>\n",
       "      <td>1</td>\n",
       "      <td>3</td>\n",
       "      <td>Dry</td>\n",
       "      <td>NaN</td>\n",
       "      <td>Urban</td>\n",
       "      <td>NaN</td>\n",
       "      <td>Taxi/Private hire car</td>\n",
       "    </tr>\n",
       "    <tr>\n",
       "      <th>3</th>\n",
       "      <td>200701BS66128</td>\n",
       "      <td>Serious</td>\n",
       "      <td>16-08-2019</td>\n",
       "      <td>51.495478</td>\n",
       "      <td>Daylight</td>\n",
       "      <td>Kensington and Chelsea</td>\n",
       "      <td>-0.202731</td>\n",
       "      <td>1</td>\n",
       "      <td>4</td>\n",
       "      <td>Dry</td>\n",
       "      <td>Single carriageway</td>\n",
       "      <td>Urban</td>\n",
       "      <td>Fine no high winds</td>\n",
       "      <td>Bus or coach (17 or more pass seats)</td>\n",
       "    </tr>\n",
       "    <tr>\n",
       "      <th>4</th>\n",
       "      <td>200701BS66837</td>\n",
       "      <td>Slight</td>\n",
       "      <td>3/9/2019</td>\n",
       "      <td>51.488576</td>\n",
       "      <td>Darkness - lights lit</td>\n",
       "      <td>Kensington and Chelsea</td>\n",
       "      <td>-0.192487</td>\n",
       "      <td>1</td>\n",
       "      <td>2</td>\n",
       "      <td>Dry</td>\n",
       "      <td>NaN</td>\n",
       "      <td>Urban</td>\n",
       "      <td>NaN</td>\n",
       "      <td>Other vehicle</td>\n",
       "    </tr>\n",
       "    <tr>\n",
       "      <th>...</th>\n",
       "      <td>...</td>\n",
       "      <td>...</td>\n",
       "      <td>...</td>\n",
       "      <td>...</td>\n",
       "      <td>...</td>\n",
       "      <td>...</td>\n",
       "      <td>...</td>\n",
       "      <td>...</td>\n",
       "      <td>...</td>\n",
       "      <td>...</td>\n",
       "      <td>...</td>\n",
       "      <td>...</td>\n",
       "      <td>...</td>\n",
       "      <td>...</td>\n",
       "    </tr>\n",
       "    <tr>\n",
       "      <th>660674</th>\n",
       "      <td>201091NM01760</td>\n",
       "      <td>Slight</td>\n",
       "      <td>18-02-2022</td>\n",
       "      <td>57.374005</td>\n",
       "      <td>Daylight</td>\n",
       "      <td>Highland</td>\n",
       "      <td>-3.467828</td>\n",
       "      <td>2</td>\n",
       "      <td>1</td>\n",
       "      <td>Dry</td>\n",
       "      <td>Single carriageway</td>\n",
       "      <td>Rural</td>\n",
       "      <td>Fine no high winds</td>\n",
       "      <td>Car</td>\n",
       "    </tr>\n",
       "    <tr>\n",
       "      <th>660675</th>\n",
       "      <td>201091NM01881</td>\n",
       "      <td>Slight</td>\n",
       "      <td>21-02-2022</td>\n",
       "      <td>57.232273</td>\n",
       "      <td>Darkness - no lighting</td>\n",
       "      <td>Highland</td>\n",
       "      <td>-3.809281</td>\n",
       "      <td>1</td>\n",
       "      <td>1</td>\n",
       "      <td>Frost or ice</td>\n",
       "      <td>Single carriageway</td>\n",
       "      <td>Rural</td>\n",
       "      <td>Fine no high winds</td>\n",
       "      <td>Car</td>\n",
       "    </tr>\n",
       "    <tr>\n",
       "      <th>660676</th>\n",
       "      <td>201091NM01935</td>\n",
       "      <td>Slight</td>\n",
       "      <td>23-02-2022</td>\n",
       "      <td>57.585044</td>\n",
       "      <td>Daylight</td>\n",
       "      <td>Highland</td>\n",
       "      <td>-3.862727</td>\n",
       "      <td>1</td>\n",
       "      <td>3</td>\n",
       "      <td>Frost or ice</td>\n",
       "      <td>Single carriageway</td>\n",
       "      <td>Rural</td>\n",
       "      <td>Fine no high winds</td>\n",
       "      <td>Car</td>\n",
       "    </tr>\n",
       "    <tr>\n",
       "      <th>660677</th>\n",
       "      <td>201091NM01964</td>\n",
       "      <td>Serious</td>\n",
       "      <td>23-02-2022</td>\n",
       "      <td>57.214898</td>\n",
       "      <td>Darkness - no lighting</td>\n",
       "      <td>Highland</td>\n",
       "      <td>-3.823997</td>\n",
       "      <td>1</td>\n",
       "      <td>2</td>\n",
       "      <td>Wet or damp</td>\n",
       "      <td>Single carriageway</td>\n",
       "      <td>Rural</td>\n",
       "      <td>Fine no high winds</td>\n",
       "      <td>Motorcycle over 500cc</td>\n",
       "    </tr>\n",
       "    <tr>\n",
       "      <th>660678</th>\n",
       "      <td>201091NM02142</td>\n",
       "      <td>Serious</td>\n",
       "      <td>28-02-2022</td>\n",
       "      <td>57.575210</td>\n",
       "      <td>Daylight</td>\n",
       "      <td>Highland</td>\n",
       "      <td>-3.895673</td>\n",
       "      <td>1</td>\n",
       "      <td>1</td>\n",
       "      <td>Wet or damp</td>\n",
       "      <td>Dual carriageway</td>\n",
       "      <td>Rural</td>\n",
       "      <td>Snowing no high winds</td>\n",
       "      <td>Car</td>\n",
       "    </tr>\n",
       "  </tbody>\n",
       "</table>\n",
       "<p>660679 rows × 14 columns</p>\n",
       "</div>"
      ],
      "text/plain": [
       "                Index Accident_Severity Accident Date   Latitude  \\\n",
       "0       200701BS64157           Serious      5/6/2019  51.506187   \n",
       "1       200701BS65737           Serious      2/7/2019  51.495029   \n",
       "2       200701BS66127           Serious    26-08-2019  51.517715   \n",
       "3       200701BS66128           Serious    16-08-2019  51.495478   \n",
       "4       200701BS66837            Slight      3/9/2019  51.488576   \n",
       "...               ...               ...           ...        ...   \n",
       "660674  201091NM01760            Slight    18-02-2022  57.374005   \n",
       "660675  201091NM01881            Slight    21-02-2022  57.232273   \n",
       "660676  201091NM01935            Slight    23-02-2022  57.585044   \n",
       "660677  201091NM01964           Serious    23-02-2022  57.214898   \n",
       "660678  201091NM02142           Serious    28-02-2022  57.575210   \n",
       "\n",
       "                   Light_Conditions           District Area  Longitude  \\\n",
       "0             Darkness - lights lit  Kensington and Chelsea  -0.209082   \n",
       "1                          Daylight  Kensington and Chelsea  -0.173647   \n",
       "2       Darkness - lighting unknown  Kensington and Chelsea  -0.210215   \n",
       "3                          Daylight  Kensington and Chelsea  -0.202731   \n",
       "4             Darkness - lights lit  Kensington and Chelsea  -0.192487   \n",
       "...                             ...                     ...        ...   \n",
       "660674                     Daylight                Highland  -3.467828   \n",
       "660675       Darkness - no lighting                Highland  -3.809281   \n",
       "660676                     Daylight                Highland  -3.862727   \n",
       "660677       Darkness - no lighting                Highland  -3.823997   \n",
       "660678                     Daylight                Highland  -3.895673   \n",
       "\n",
       "        Number_of_Casualties  Number_of_Vehicles Road_Surface_Conditions  \\\n",
       "0                          1                   2                     Dry   \n",
       "1                          1                   2             Wet or damp   \n",
       "2                          1                   3                     Dry   \n",
       "3                          1                   4                     Dry   \n",
       "4                          1                   2                     Dry   \n",
       "...                      ...                 ...                     ...   \n",
       "660674                     2                   1                     Dry   \n",
       "660675                     1                   1            Frost or ice   \n",
       "660676                     1                   3            Frost or ice   \n",
       "660677                     1                   2             Wet or damp   \n",
       "660678                     1                   1             Wet or damp   \n",
       "\n",
       "                 Road_Type Urban_or_Rural_Area     Weather_Conditions  \\\n",
       "0       Single carriageway               Urban     Fine no high winds   \n",
       "1       Single carriageway               Urban  Raining no high winds   \n",
       "2                      NaN               Urban                    NaN   \n",
       "3       Single carriageway               Urban     Fine no high winds   \n",
       "4                      NaN               Urban                    NaN   \n",
       "...                    ...                 ...                    ...   \n",
       "660674  Single carriageway               Rural     Fine no high winds   \n",
       "660675  Single carriageway               Rural     Fine no high winds   \n",
       "660676  Single carriageway               Rural     Fine no high winds   \n",
       "660677  Single carriageway               Rural     Fine no high winds   \n",
       "660678    Dual carriageway               Rural  Snowing no high winds   \n",
       "\n",
       "                                Vehicle_Type  \n",
       "0                                        Car  \n",
       "1                                        Car  \n",
       "2                      Taxi/Private hire car  \n",
       "3       Bus or coach (17 or more pass seats)  \n",
       "4                              Other vehicle  \n",
       "...                                      ...  \n",
       "660674                                   Car  \n",
       "660675                                   Car  \n",
       "660676                                   Car  \n",
       "660677                 Motorcycle over 500cc  \n",
       "660678                                   Car  \n",
       "\n",
       "[660679 rows x 14 columns]"
      ]
     },
     "execution_count": 2,
     "metadata": {},
     "output_type": "execute_result"
    }
   ],
   "source": [
    "uk = pd.read_csv('datasets\\\\uk_road_accident.csv')\n",
    "uk"
   ]
  },
  {
   "cell_type": "markdown",
   "id": "9955c07b-fedd-4183-866f-ad488896cc49",
   "metadata": {},
   "source": [
    "<h3>Descriptive Analytics</h3>"
   ]
  },
  {
   "cell_type": "code",
   "execution_count": 3,
   "id": "6404eeb2-4fbb-4ed8-b716-4fd128c1adc6",
   "metadata": {},
   "outputs": [
    {
     "data": {
      "text/html": [
       "<div>\n",
       "<style scoped>\n",
       "    .dataframe tbody tr th:only-of-type {\n",
       "        vertical-align: middle;\n",
       "    }\n",
       "\n",
       "    .dataframe tbody tr th {\n",
       "        vertical-align: top;\n",
       "    }\n",
       "\n",
       "    .dataframe thead th {\n",
       "        text-align: right;\n",
       "    }\n",
       "</style>\n",
       "<table border=\"1\" class=\"dataframe\">\n",
       "  <thead>\n",
       "    <tr style=\"text-align: right;\">\n",
       "      <th></th>\n",
       "      <th>Latitude</th>\n",
       "      <th>Longitude</th>\n",
       "      <th>Number_of_Casualties</th>\n",
       "      <th>Number_of_Vehicles</th>\n",
       "    </tr>\n",
       "  </thead>\n",
       "  <tbody>\n",
       "    <tr>\n",
       "      <th>count</th>\n",
       "      <td>660654.000000</td>\n",
       "      <td>660653.000000</td>\n",
       "      <td>660679.000000</td>\n",
       "      <td>660679.000000</td>\n",
       "    </tr>\n",
       "    <tr>\n",
       "      <th>mean</th>\n",
       "      <td>52.553866</td>\n",
       "      <td>-1.431210</td>\n",
       "      <td>1.357040</td>\n",
       "      <td>1.831255</td>\n",
       "    </tr>\n",
       "    <tr>\n",
       "      <th>std</th>\n",
       "      <td>1.406922</td>\n",
       "      <td>1.383330</td>\n",
       "      <td>0.824847</td>\n",
       "      <td>0.715269</td>\n",
       "    </tr>\n",
       "    <tr>\n",
       "      <th>min</th>\n",
       "      <td>49.914430</td>\n",
       "      <td>-7.516225</td>\n",
       "      <td>1.000000</td>\n",
       "      <td>1.000000</td>\n",
       "    </tr>\n",
       "    <tr>\n",
       "      <th>25%</th>\n",
       "      <td>51.490690</td>\n",
       "      <td>-2.332291</td>\n",
       "      <td>1.000000</td>\n",
       "      <td>1.000000</td>\n",
       "    </tr>\n",
       "    <tr>\n",
       "      <th>50%</th>\n",
       "      <td>52.315641</td>\n",
       "      <td>-1.411667</td>\n",
       "      <td>1.000000</td>\n",
       "      <td>2.000000</td>\n",
       "    </tr>\n",
       "    <tr>\n",
       "      <th>75%</th>\n",
       "      <td>53.453452</td>\n",
       "      <td>-0.232869</td>\n",
       "      <td>1.000000</td>\n",
       "      <td>2.000000</td>\n",
       "    </tr>\n",
       "    <tr>\n",
       "      <th>max</th>\n",
       "      <td>60.757544</td>\n",
       "      <td>1.762010</td>\n",
       "      <td>68.000000</td>\n",
       "      <td>32.000000</td>\n",
       "    </tr>\n",
       "  </tbody>\n",
       "</table>\n",
       "</div>"
      ],
      "text/plain": [
       "            Latitude      Longitude  Number_of_Casualties  Number_of_Vehicles\n",
       "count  660654.000000  660653.000000         660679.000000       660679.000000\n",
       "mean       52.553866      -1.431210              1.357040            1.831255\n",
       "std         1.406922       1.383330              0.824847            0.715269\n",
       "min        49.914430      -7.516225              1.000000            1.000000\n",
       "25%        51.490690      -2.332291              1.000000            1.000000\n",
       "50%        52.315641      -1.411667              1.000000            2.000000\n",
       "75%        53.453452      -0.232869              1.000000            2.000000\n",
       "max        60.757544       1.762010             68.000000           32.000000"
      ]
     },
     "execution_count": 3,
     "metadata": {},
     "output_type": "execute_result"
    }
   ],
   "source": [
    "uk.describe()\n"
   ]
  },
  {
   "cell_type": "markdown",
   "id": "c8592cf5-47f8-4c1b-8d99-a2cdb5238813",
   "metadata": {},
   "source": [
    "<h3>Checking for Null Values</h3>"
   ]
  },
  {
   "cell_type": "code",
   "execution_count": 4,
   "id": "475ad5c0-88d9-4b81-bba7-9a3c4d4f5284",
   "metadata": {},
   "outputs": [
    {
     "data": {
      "text/html": [
       "<div>\n",
       "<style scoped>\n",
       "    .dataframe tbody tr th:only-of-type {\n",
       "        vertical-align: middle;\n",
       "    }\n",
       "\n",
       "    .dataframe tbody tr th {\n",
       "        vertical-align: top;\n",
       "    }\n",
       "\n",
       "    .dataframe thead th {\n",
       "        text-align: right;\n",
       "    }\n",
       "</style>\n",
       "<table border=\"1\" class=\"dataframe\">\n",
       "  <thead>\n",
       "    <tr style=\"text-align: right;\">\n",
       "      <th></th>\n",
       "      <th>Index</th>\n",
       "      <th>Accident_Severity</th>\n",
       "      <th>Accident Date</th>\n",
       "      <th>Latitude</th>\n",
       "      <th>Light_Conditions</th>\n",
       "      <th>District Area</th>\n",
       "      <th>Longitude</th>\n",
       "      <th>Number_of_Casualties</th>\n",
       "      <th>Number_of_Vehicles</th>\n",
       "      <th>Road_Surface_Conditions</th>\n",
       "      <th>Road_Type</th>\n",
       "      <th>Urban_or_Rural_Area</th>\n",
       "      <th>Weather_Conditions</th>\n",
       "      <th>Vehicle_Type</th>\n",
       "    </tr>\n",
       "  </thead>\n",
       "  <tbody>\n",
       "    <tr>\n",
       "      <th>0</th>\n",
       "      <td>False</td>\n",
       "      <td>False</td>\n",
       "      <td>False</td>\n",
       "      <td>False</td>\n",
       "      <td>False</td>\n",
       "      <td>False</td>\n",
       "      <td>False</td>\n",
       "      <td>False</td>\n",
       "      <td>False</td>\n",
       "      <td>False</td>\n",
       "      <td>False</td>\n",
       "      <td>False</td>\n",
       "      <td>False</td>\n",
       "      <td>False</td>\n",
       "    </tr>\n",
       "    <tr>\n",
       "      <th>1</th>\n",
       "      <td>False</td>\n",
       "      <td>False</td>\n",
       "      <td>False</td>\n",
       "      <td>False</td>\n",
       "      <td>False</td>\n",
       "      <td>False</td>\n",
       "      <td>False</td>\n",
       "      <td>False</td>\n",
       "      <td>False</td>\n",
       "      <td>False</td>\n",
       "      <td>False</td>\n",
       "      <td>False</td>\n",
       "      <td>False</td>\n",
       "      <td>False</td>\n",
       "    </tr>\n",
       "    <tr>\n",
       "      <th>2</th>\n",
       "      <td>False</td>\n",
       "      <td>False</td>\n",
       "      <td>False</td>\n",
       "      <td>False</td>\n",
       "      <td>False</td>\n",
       "      <td>False</td>\n",
       "      <td>False</td>\n",
       "      <td>False</td>\n",
       "      <td>False</td>\n",
       "      <td>False</td>\n",
       "      <td>True</td>\n",
       "      <td>False</td>\n",
       "      <td>True</td>\n",
       "      <td>False</td>\n",
       "    </tr>\n",
       "    <tr>\n",
       "      <th>3</th>\n",
       "      <td>False</td>\n",
       "      <td>False</td>\n",
       "      <td>False</td>\n",
       "      <td>False</td>\n",
       "      <td>False</td>\n",
       "      <td>False</td>\n",
       "      <td>False</td>\n",
       "      <td>False</td>\n",
       "      <td>False</td>\n",
       "      <td>False</td>\n",
       "      <td>False</td>\n",
       "      <td>False</td>\n",
       "      <td>False</td>\n",
       "      <td>False</td>\n",
       "    </tr>\n",
       "    <tr>\n",
       "      <th>4</th>\n",
       "      <td>False</td>\n",
       "      <td>False</td>\n",
       "      <td>False</td>\n",
       "      <td>False</td>\n",
       "      <td>False</td>\n",
       "      <td>False</td>\n",
       "      <td>False</td>\n",
       "      <td>False</td>\n",
       "      <td>False</td>\n",
       "      <td>False</td>\n",
       "      <td>True</td>\n",
       "      <td>False</td>\n",
       "      <td>True</td>\n",
       "      <td>False</td>\n",
       "    </tr>\n",
       "    <tr>\n",
       "      <th>...</th>\n",
       "      <td>...</td>\n",
       "      <td>...</td>\n",
       "      <td>...</td>\n",
       "      <td>...</td>\n",
       "      <td>...</td>\n",
       "      <td>...</td>\n",
       "      <td>...</td>\n",
       "      <td>...</td>\n",
       "      <td>...</td>\n",
       "      <td>...</td>\n",
       "      <td>...</td>\n",
       "      <td>...</td>\n",
       "      <td>...</td>\n",
       "      <td>...</td>\n",
       "    </tr>\n",
       "    <tr>\n",
       "      <th>660674</th>\n",
       "      <td>False</td>\n",
       "      <td>False</td>\n",
       "      <td>False</td>\n",
       "      <td>False</td>\n",
       "      <td>False</td>\n",
       "      <td>False</td>\n",
       "      <td>False</td>\n",
       "      <td>False</td>\n",
       "      <td>False</td>\n",
       "      <td>False</td>\n",
       "      <td>False</td>\n",
       "      <td>False</td>\n",
       "      <td>False</td>\n",
       "      <td>False</td>\n",
       "    </tr>\n",
       "    <tr>\n",
       "      <th>660675</th>\n",
       "      <td>False</td>\n",
       "      <td>False</td>\n",
       "      <td>False</td>\n",
       "      <td>False</td>\n",
       "      <td>False</td>\n",
       "      <td>False</td>\n",
       "      <td>False</td>\n",
       "      <td>False</td>\n",
       "      <td>False</td>\n",
       "      <td>False</td>\n",
       "      <td>False</td>\n",
       "      <td>False</td>\n",
       "      <td>False</td>\n",
       "      <td>False</td>\n",
       "    </tr>\n",
       "    <tr>\n",
       "      <th>660676</th>\n",
       "      <td>False</td>\n",
       "      <td>False</td>\n",
       "      <td>False</td>\n",
       "      <td>False</td>\n",
       "      <td>False</td>\n",
       "      <td>False</td>\n",
       "      <td>False</td>\n",
       "      <td>False</td>\n",
       "      <td>False</td>\n",
       "      <td>False</td>\n",
       "      <td>False</td>\n",
       "      <td>False</td>\n",
       "      <td>False</td>\n",
       "      <td>False</td>\n",
       "    </tr>\n",
       "    <tr>\n",
       "      <th>660677</th>\n",
       "      <td>False</td>\n",
       "      <td>False</td>\n",
       "      <td>False</td>\n",
       "      <td>False</td>\n",
       "      <td>False</td>\n",
       "      <td>False</td>\n",
       "      <td>False</td>\n",
       "      <td>False</td>\n",
       "      <td>False</td>\n",
       "      <td>False</td>\n",
       "      <td>False</td>\n",
       "      <td>False</td>\n",
       "      <td>False</td>\n",
       "      <td>False</td>\n",
       "    </tr>\n",
       "    <tr>\n",
       "      <th>660678</th>\n",
       "      <td>False</td>\n",
       "      <td>False</td>\n",
       "      <td>False</td>\n",
       "      <td>False</td>\n",
       "      <td>False</td>\n",
       "      <td>False</td>\n",
       "      <td>False</td>\n",
       "      <td>False</td>\n",
       "      <td>False</td>\n",
       "      <td>False</td>\n",
       "      <td>False</td>\n",
       "      <td>False</td>\n",
       "      <td>False</td>\n",
       "      <td>False</td>\n",
       "    </tr>\n",
       "  </tbody>\n",
       "</table>\n",
       "<p>660679 rows × 14 columns</p>\n",
       "</div>"
      ],
      "text/plain": [
       "        Index  Accident_Severity  Accident Date  Latitude  Light_Conditions  \\\n",
       "0       False              False          False     False             False   \n",
       "1       False              False          False     False             False   \n",
       "2       False              False          False     False             False   \n",
       "3       False              False          False     False             False   \n",
       "4       False              False          False     False             False   \n",
       "...       ...                ...            ...       ...               ...   \n",
       "660674  False              False          False     False             False   \n",
       "660675  False              False          False     False             False   \n",
       "660676  False              False          False     False             False   \n",
       "660677  False              False          False     False             False   \n",
       "660678  False              False          False     False             False   \n",
       "\n",
       "        District Area  Longitude  Number_of_Casualties  Number_of_Vehicles  \\\n",
       "0               False      False                 False               False   \n",
       "1               False      False                 False               False   \n",
       "2               False      False                 False               False   \n",
       "3               False      False                 False               False   \n",
       "4               False      False                 False               False   \n",
       "...               ...        ...                   ...                 ...   \n",
       "660674          False      False                 False               False   \n",
       "660675          False      False                 False               False   \n",
       "660676          False      False                 False               False   \n",
       "660677          False      False                 False               False   \n",
       "660678          False      False                 False               False   \n",
       "\n",
       "        Road_Surface_Conditions  Road_Type  Urban_or_Rural_Area  \\\n",
       "0                         False      False                False   \n",
       "1                         False      False                False   \n",
       "2                         False       True                False   \n",
       "3                         False      False                False   \n",
       "4                         False       True                False   \n",
       "...                         ...        ...                  ...   \n",
       "660674                    False      False                False   \n",
       "660675                    False      False                False   \n",
       "660676                    False      False                False   \n",
       "660677                    False      False                False   \n",
       "660678                    False      False                False   \n",
       "\n",
       "        Weather_Conditions  Vehicle_Type  \n",
       "0                    False         False  \n",
       "1                    False         False  \n",
       "2                     True         False  \n",
       "3                    False         False  \n",
       "4                     True         False  \n",
       "...                    ...           ...  \n",
       "660674               False         False  \n",
       "660675               False         False  \n",
       "660676               False         False  \n",
       "660677               False         False  \n",
       "660678               False         False  \n",
       "\n",
       "[660679 rows x 14 columns]"
      ]
     },
     "execution_count": 4,
     "metadata": {},
     "output_type": "execute_result"
    }
   ],
   "source": [
    "uk.isnull()"
   ]
  },
  {
   "cell_type": "code",
   "execution_count": 5,
   "id": "03d7746a-81b5-4c09-bc33-c05193c12705",
   "metadata": {},
   "outputs": [
    {
     "data": {
      "text/plain": [
       "Index                          0\n",
       "Accident_Severity              0\n",
       "Accident Date                  0\n",
       "Latitude                      25\n",
       "Light_Conditions               0\n",
       "District Area                  0\n",
       "Longitude                     26\n",
       "Number_of_Casualties           0\n",
       "Number_of_Vehicles             0\n",
       "Road_Surface_Conditions      726\n",
       "Road_Type                   4520\n",
       "Urban_or_Rural_Area           15\n",
       "Weather_Conditions         14128\n",
       "Vehicle_Type                   0\n",
       "dtype: int64"
      ]
     },
     "execution_count": 5,
     "metadata": {},
     "output_type": "execute_result"
    }
   ],
   "source": [
    "uk.isnull().sum()"
   ]
  },
  {
   "cell_type": "markdown",
   "id": "fb558fa3-d417-41a0-86cb-3bad77a2a93b",
   "metadata": {},
   "source": [
    "<h3>Filling Up Null Values</h3>"
   ]
  },
  {
   "cell_type": "code",
   "execution_count": 6,
   "id": "fdd2aa4e-2551-40e1-aa0d-92c094c239a5",
   "metadata": {},
   "outputs": [
    {
     "data": {
      "text/plain": [
       "Index                      0\n",
       "Accident_Severity          0\n",
       "Accident Date              0\n",
       "Latitude                   0\n",
       "Light_Conditions           0\n",
       "District Area              0\n",
       "Longitude                  0\n",
       "Number_of_Casualties       0\n",
       "Number_of_Vehicles         0\n",
       "Road_Surface_Conditions    0\n",
       "Road_Type                  0\n",
       "Urban_or_Rural_Area        0\n",
       "Weather_Conditions         0\n",
       "Vehicle_Type               0\n",
       "dtype: int64"
      ]
     },
     "execution_count": 6,
     "metadata": {},
     "output_type": "execute_result"
    }
   ],
   "source": [
    "\n",
    "uk['Latitude'].mean()\n",
    "uk['Latitude'] = uk['Latitude'].fillna(uk['Latitude'].mean())\n",
    "\n",
    "uk['Longitude'].mean()\n",
    "uk['Longitude'] = uk['Longitude'].fillna(uk['Longitude'].mean())\n",
    "\n",
    "uk['Road_Surface_Conditions'].mode()\n",
    "uk['Road_Surface_Conditions'] = uk['Road_Surface_Conditions'].fillna(uk['Road_Surface_Conditions'].mode()[0])\n",
    "\n",
    "uk['Road_Type'].mode()\n",
    "uk['Road_Type'] = uk['Road_Type'].fillna(uk['Road_Type'].mode()[0])\n",
    "\n",
    "uk['Urban_or_Rural_Area'].mode()\n",
    "uk['Urban_or_Rural_Area'] = uk['Urban_or_Rural_Area'].fillna(uk['Urban_or_Rural_Area'].mode()[0])\n",
    "\n",
    "uk['Weather_Conditions'].mode()\n",
    "uk['Weather_Conditions'] = uk['Weather_Conditions'].fillna(uk['Weather_Conditions'].mode()[0])\n",
    "\n",
    "uk.isnull().sum()"
   ]
  },
  {
   "cell_type": "markdown",
   "id": "ed4a2e40-dfaa-4fc4-9918-85faeac006ce",
   "metadata": {},
   "source": [
    "<h3>Clearing any inconsistencies with the Data Set</h3>"
   ]
  },
  {
   "cell_type": "code",
   "execution_count": 7,
   "id": "eb3f425b-3d8d-4386-8401-43dc0987d1fe",
   "metadata": {},
   "outputs": [],
   "source": [
    "uk['Accident Date'] = uk['Accident Date'].astype('str')\n",
    "uk['Accident Date'] = uk['Accident Date'].str.strip()\n",
    "uk['Accident Date'] = uk['Accident Date'].str.replace('/','-')"
   ]
  },
  {
   "cell_type": "code",
   "execution_count": 8,
   "id": "46bd0e28-e8c4-463e-94aa-d2eec937a21f",
   "metadata": {},
   "outputs": [],
   "source": [
    "uk['Accident Date'] = pd.to_datetime(uk['Accident Date'], dayfirst = True, errors = 'coerce')"
   ]
  },
  {
   "cell_type": "code",
   "execution_count": null,
   "id": "973e90ef-a875-44f3-8a22-0b05b16c3856",
   "metadata": {},
   "outputs": [],
   "source": []
  },
  {
   "cell_type": "markdown",
   "id": "8ad6dc7b-5876-4f9d-8f94-4a4d3fe4c6d1",
   "metadata": {},
   "source": [
    "<h3>Extracting Date information using pandas date time</h3>"
   ]
  },
  {
   "cell_type": "code",
   "execution_count": 9,
   "id": "b0e0d9f8-8bb9-46ef-af21-58e6e72d6aaa",
   "metadata": {},
   "outputs": [],
   "source": [
    "uk['Year'] = uk['Accident Date'].dt.year\n",
    "uk['Month'] = uk['Accident Date'].dt.month\n",
    "uk['Day'] = uk['Accident Date'].dt.day\n",
    "uk['DayOfWeek'] = uk['Accident Date'].dt.dayofweek"
   ]
  },
  {
   "cell_type": "code",
   "execution_count": 10,
   "id": "188ab247-c3c4-40ea-96a9-e7051c469d2a",
   "metadata": {},
   "outputs": [
    {
     "data": {
      "text/plain": [
       "Index                              object\n",
       "Accident_Severity                  object\n",
       "Accident Date              datetime64[ns]\n",
       "Latitude                          float64\n",
       "Light_Conditions                   object\n",
       "District Area                      object\n",
       "Longitude                         float64\n",
       "Number_of_Casualties                int64\n",
       "Number_of_Vehicles                  int64\n",
       "Road_Surface_Conditions            object\n",
       "Road_Type                          object\n",
       "Urban_or_Rural_Area                object\n",
       "Weather_Conditions                 object\n",
       "Vehicle_Type                       object\n",
       "Year                                int32\n",
       "Month                               int32\n",
       "Day                                 int32\n",
       "DayOfWeek                           int32\n",
       "dtype: object"
      ]
     },
     "execution_count": 10,
     "metadata": {},
     "output_type": "execute_result"
    }
   ],
   "source": [
    "uk.dtypes"
   ]
  },
  {
   "cell_type": "markdown",
   "id": "2e25d9b8-2cf6-4ece-8df8-8d6037eed707",
   "metadata": {},
   "source": [
    "<h3>Changing the Data Type</h3>"
   ]
  },
  {
   "cell_type": "code",
   "execution_count": 11,
   "id": "8cdf8a56-a81e-4827-ac4b-6850fd3716bb",
   "metadata": {},
   "outputs": [
    {
     "data": {
      "text/plain": [
       "Index                      0\n",
       "Accident_Severity          0\n",
       "Accident Date              0\n",
       "Latitude                   0\n",
       "Light_Conditions           0\n",
       "District Area              0\n",
       "Longitude                  0\n",
       "Number_of_Casualties       0\n",
       "Number_of_Vehicles         0\n",
       "Road_Surface_Conditions    0\n",
       "Road_Type                  0\n",
       "Urban_or_Rural_Area        0\n",
       "Weather_Conditions         0\n",
       "Vehicle_Type               0\n",
       "Year                       0\n",
       "Month                      0\n",
       "Day                        0\n",
       "DayOfWeek                  0\n",
       "dtype: int64"
      ]
     },
     "execution_count": 11,
     "metadata": {},
     "output_type": "execute_result"
    }
   ],
   "source": [
    "uk.isnull().sum()"
   ]
  },
  {
   "cell_type": "code",
   "execution_count": 12,
   "id": "b715fe2c-71ee-46b2-9d64-38ae385a9162",
   "metadata": {},
   "outputs": [
    {
     "name": "stdout",
     "output_type": "stream",
     "text": [
      "<class 'pandas.core.frame.DataFrame'>\n",
      "RangeIndex: 660679 entries, 0 to 660678\n",
      "Data columns (total 18 columns):\n",
      " #   Column                   Non-Null Count   Dtype   \n",
      "---  ------                   --------------   -----   \n",
      " 0   Index                    660679 non-null  category\n",
      " 1   Accident_Severity        660679 non-null  category\n",
      " 2   Accident Date            660679 non-null  category\n",
      " 3   Latitude                 660679 non-null  float64 \n",
      " 4   Light_Conditions         660679 non-null  category\n",
      " 5   District Area            660679 non-null  category\n",
      " 6   Longitude                660679 non-null  float64 \n",
      " 7   Number_of_Casualties     660679 non-null  int64   \n",
      " 8   Number_of_Vehicles       660679 non-null  int64   \n",
      " 9   Road_Surface_Conditions  660679 non-null  category\n",
      " 10  Road_Type                660679 non-null  category\n",
      " 11  Urban_or_Rural_Area      660679 non-null  category\n",
      " 12  Weather_Conditions       660679 non-null  category\n",
      " 13  Vehicle_Type             660679 non-null  category\n",
      " 14  Year                     660679 non-null  int32   \n",
      " 15  Month                    660679 non-null  int32   \n",
      " 16  Day                      660679 non-null  int32   \n",
      " 17  DayOfWeek                660679 non-null  int32   \n",
      "dtypes: category(10), float64(2), int32(4), int64(2)\n",
      "memory usage: 59.1 MB\n"
     ]
    }
   ],
   "source": [
    "uk['Index']= uk['Index'].astype('category')\n",
    "uk['Accident_Severity']= uk['Accident_Severity'].astype('category')\n",
    "uk['Accident Date']= uk['Accident Date'].astype('category')\n",
    "uk['Light_Conditions']= uk['Light_Conditions'].astype('category')\n",
    "uk['District Area']= uk['District Area'].astype('category')\n",
    "uk['Road_Surface_Conditions']= uk['Road_Surface_Conditions'].astype('category')\n",
    "uk['Road_Type']= uk['Road_Type'].astype('category')\n",
    "uk['Urban_or_Rural_Area']= uk['Urban_or_Rural_Area'].astype('category')\n",
    "uk['Weather_Conditions']= uk['Weather_Conditions'].astype('category')\n",
    "uk['Vehicle_Type']= uk['Vehicle_Type'].astype('category')\n",
    "\n",
    "uk.info()"
   ]
  },
  {
   "cell_type": "markdown",
   "id": "b56e03b4-a59f-4626-aa46-a8bc38e825ed",
   "metadata": {},
   "source": [
    "<h1>What Is Data Visualization?</h1>\n",
    "<hr>\n",
    "<h3>“The representation of information in the form of a chart, diagram, picture, etc.”</h3>\n",
    "\n",
    "<h6>\n",
    "Use a simple bar chart showing the number of accidents per year (2019–2022) to illustrate how raw numbers become instantly understandable when visualized.\n",
    "</h6>"
   ]
  },
  {
   "cell_type": "markdown",
   "id": "855891a9-7039-4924-abf5-4d73b36a939b",
   "metadata": {},
   "source": [
    "<h1>Why Is It Important?</h1>\n",
    "<ul>\n",
    "    <li><h4>Helps identify patterns, trends, and outliers.</h4> </li>\n",
    "    <li><h4>Speeds up decision-making.</h4></li>\n",
    "    <li><h4>Makes data accessible to non-technical stakeholders.</h4></li>\n",
    "</ul>\n",
    "\n",
    "<h4>\n",
    "📊 Example Visualization: Line chart showing monthly accident trends over time. This reveals seasonal spikes (e.g., winter months, holidays).\n",
    "</h4>"
   ]
  },
  {
   "cell_type": "markdown",
   "id": "7fbebce6-d2f5-4f71-b520-d5abb811cc9c",
   "metadata": {},
   "source": [
    "<h1>Types of Visualizations (with Dataset Examples)</h1>\n",
    "<table>\n",
    "    <tr>\n",
    "        <th>\n",
    "            Visualization Type\n",
    "        </th>\n",
    "        <th>\n",
    "            UK Dataset Example\n",
    "        </th>\n",
    "        <th>\n",
    "            Purpose\n",
    "        </th>\n",
    "    </tr>\n",
    "    <tr>\n",
    "        <td>\n",
    "            Histogram\n",
    "        </td>\n",
    "        <td>\n",
    "            Distribution of accident severity\n",
    "        </td>\n",
    "        <td>\n",
    "            Show frequency of severity levels\n",
    "        </td>\n",
    "    </tr>\n",
    "    <tr>\n",
    "        <td>\n",
    "            Heatmap\n",
    "        </td>\n",
    "        <td>\n",
    "            Accidents by region vs. time of day\n",
    "        </td>\n",
    "        <td>\n",
    "            Reveal hotspots and peak hours\n",
    "        </td>\n",
    "    </tr>\n",
    "    <tr>\n",
    "        <td>\n",
    "            Box Plot\n",
    "        </td>\n",
    "        <td>\n",
    "            Casualty age distribution\n",
    "        </td>\n",
    "        <td>\n",
    "            Spot outliers and age concentration\n",
    "        </td>\n",
    "    </tr>\n",
    "    <tr>\n",
    "        <td>\n",
    "            Pie Chart\n",
    "        </td>\n",
    "        <td>\n",
    "            Proportion of accident causes\n",
    "        </td>\n",
    "        <td>\n",
    "            Show relative contribution\n",
    "        </td>\n",
    "    </tr>\n",
    "    <tr>\n",
    "        <td>\n",
    "            Stacked Bar Chart\n",
    "        </td>\n",
    "        <td>\n",
    "            Road type vs. lighting condition\n",
    "        </td>\n",
    "        <td>\n",
    "            Compare accident counts across categories\n",
    "        </td>\n",
    "    </tr>\n",
    "</table>"
   ]
  },
  {
   "cell_type": "markdown",
   "id": "b4c5792b-f83d-4bf5-b8ae-13900976af2e",
   "metadata": {},
   "source": [
    "<h1>Univariate Plotting </h1>\n",
    "<h2>Focus on one variable at a time.</h2>\n",
    "\n",
    "<h4>📌 Example: Histogram of vehicle types involved </h4>\n"
   ]
  },
  {
   "cell_type": "code",
   "execution_count": 13,
   "id": "35af60aa-3cdf-4197-9f67-43f70f5bfe85",
   "metadata": {},
   "outputs": [
    {
     "data": {
      "image/png": "[encoded data removed]",
      "text/plain": [
       "<Figure size 640x480 with 1 Axes>"
      ]
     },
     "metadata": {},
     "output_type": "display_data"
    }
   ],
   "source": [
    "\n",
    "uk['Vehicle_Type'].value_counts().plot(kind='bar')\n",
    "plt.show()\n"
   ]
  },
  {
   "cell_type": "code",
   "execution_count": 14,
   "id": "f23efb66-0ba9-40e1-8f50-83d4afdd6e38",
   "metadata": {},
   "outputs": [
    {
     "data": {
      "image/png": "[encoded data removed]",
      "text/plain": [
       "<Figure size 640x480 with 1 Axes>"
      ]
     },
     "metadata": {},
     "output_type": "display_data"
    }
   ],
   "source": [
    "nocar_uk = uk[uk['Vehicle_Type'] != 'Car']\n",
    "nocar_uk['Vehicle_Type'].value_counts().plot(kind='bar')\n",
    "plt.show()"
   ]
  },
  {
   "cell_type": "markdown",
   "id": "296c4242-a8cb-4cbb-ad83-abb9e4be29be",
   "metadata": {},
   "source": [
    "<h1>Advanced Groupby Functions</h1>\n",
    "<ul>\n",
    "    <li>UNSTACK | unstack()</li>\n",
    "    <li>RESET_INDEX | reset_index()</li>\n",
    "</ul>"
   ]
  },
  {
   "cell_type": "code",
   "execution_count": 15,
   "id": "b7e9a82a-4dcc-4fe3-80d7-cd0b00c1198c",
   "metadata": {
    "scrolled": true
   },
   "outputs": [
    {
     "data": {
      "text/plain": [
       "Accident_Severity  Year\n",
       "Fatal              2019      2714\n",
       "                   2020      2341\n",
       "                   2021      2057\n",
       "                   2022      1549\n",
       "Serious            2019     24322\n",
       "                   2020     23121\n",
       "                   2021     21997\n",
       "                   2022     18777\n",
       "Slight             2019    155079\n",
       "                   2020    145129\n",
       "                   2021    139500\n",
       "                   2022    124093\n",
       "dtype: int64"
      ]
     },
     "execution_count": 15,
     "metadata": {},
     "output_type": "execute_result"
    }
   ],
   "source": [
    "uk.dtypes\n",
    "\n",
    "severity = uk.groupby(['Accident_Severity', 'Year']).size()\n",
    "severity"
   ]
  },
  {
   "cell_type": "code",
   "execution_count": 16,
   "id": "93ceb4fd-d557-4cfa-b5a1-927e711a3594",
   "metadata": {},
   "outputs": [
    {
     "data": {
      "text/html": [
       "<div>\n",
       "<style scoped>\n",
       "    .dataframe tbody tr th:only-of-type {\n",
       "        vertical-align: middle;\n",
       "    }\n",
       "\n",
       "    .dataframe tbody tr th {\n",
       "        vertical-align: top;\n",
       "    }\n",
       "\n",
       "    .dataframe thead th {\n",
       "        text-align: right;\n",
       "    }\n",
       "</style>\n",
       "<table border=\"1\" class=\"dataframe\">\n",
       "  <thead>\n",
       "    <tr style=\"text-align: right;\">\n",
       "      <th>Year</th>\n",
       "      <th>2019</th>\n",
       "      <th>2020</th>\n",
       "      <th>2021</th>\n",
       "      <th>2022</th>\n",
       "    </tr>\n",
       "    <tr>\n",
       "      <th>Accident_Severity</th>\n",
       "      <th></th>\n",
       "      <th></th>\n",
       "      <th></th>\n",
       "      <th></th>\n",
       "    </tr>\n",
       "  </thead>\n",
       "  <tbody>\n",
       "    <tr>\n",
       "      <th>Fatal</th>\n",
       "      <td>2714</td>\n",
       "      <td>2341</td>\n",
       "      <td>2057</td>\n",
       "      <td>1549</td>\n",
       "    </tr>\n",
       "    <tr>\n",
       "      <th>Serious</th>\n",
       "      <td>24322</td>\n",
       "      <td>23121</td>\n",
       "      <td>21997</td>\n",
       "      <td>18777</td>\n",
       "    </tr>\n",
       "    <tr>\n",
       "      <th>Slight</th>\n",
       "      <td>155079</td>\n",
       "      <td>145129</td>\n",
       "      <td>139500</td>\n",
       "      <td>124093</td>\n",
       "    </tr>\n",
       "  </tbody>\n",
       "</table>\n",
       "</div>"
      ],
      "text/plain": [
       "Year                 2019    2020    2021    2022\n",
       "Accident_Severity                                \n",
       "Fatal                2714    2341    2057    1549\n",
       "Serious             24322   23121   21997   18777\n",
       "Slight             155079  145129  139500  124093"
      ]
     },
     "execution_count": 16,
     "metadata": {},
     "output_type": "execute_result"
    }
   ],
   "source": [
    "severity2 = uk.groupby(['Accident_Severity', 'Year']).size()\n",
    "severity2.unstack()"
   ]
  },
  {
   "cell_type": "code",
   "execution_count": 17,
   "id": "296a9c26-6b0d-4157-ad5c-4fd9ac207435",
   "metadata": {},
   "outputs": [
    {
     "data": {
      "text/html": [
       "<div>\n",
       "<style scoped>\n",
       "    .dataframe tbody tr th:only-of-type {\n",
       "        vertical-align: middle;\n",
       "    }\n",
       "\n",
       "    .dataframe tbody tr th {\n",
       "        vertical-align: top;\n",
       "    }\n",
       "\n",
       "    .dataframe thead th {\n",
       "        text-align: right;\n",
       "    }\n",
       "</style>\n",
       "<table border=\"1\" class=\"dataframe\">\n",
       "  <thead>\n",
       "    <tr style=\"text-align: right;\">\n",
       "      <th>Accident_Severity</th>\n",
       "      <th>Fatal</th>\n",
       "      <th>Serious</th>\n",
       "      <th>Slight</th>\n",
       "    </tr>\n",
       "    <tr>\n",
       "      <th>Year</th>\n",
       "      <th></th>\n",
       "      <th></th>\n",
       "      <th></th>\n",
       "    </tr>\n",
       "  </thead>\n",
       "  <tbody>\n",
       "    <tr>\n",
       "      <th>2019</th>\n",
       "      <td>2714</td>\n",
       "      <td>24322</td>\n",
       "      <td>155079</td>\n",
       "    </tr>\n",
       "    <tr>\n",
       "      <th>2020</th>\n",
       "      <td>2341</td>\n",
       "      <td>23121</td>\n",
       "      <td>145129</td>\n",
       "    </tr>\n",
       "    <tr>\n",
       "      <th>2021</th>\n",
       "      <td>2057</td>\n",
       "      <td>21997</td>\n",
       "      <td>139500</td>\n",
       "    </tr>\n",
       "    <tr>\n",
       "      <th>2022</th>\n",
       "      <td>1549</td>\n",
       "      <td>18777</td>\n",
       "      <td>124093</td>\n",
       "    </tr>\n",
       "  </tbody>\n",
       "</table>\n",
       "</div>"
      ],
      "text/plain": [
       "Accident_Severity  Fatal  Serious  Slight\n",
       "Year                                     \n",
       "2019                2714    24322  155079\n",
       "2020                2341    23121  145129\n",
       "2021                2057    21997  139500\n",
       "2022                1549    18777  124093"
      ]
     },
     "execution_count": 17,
     "metadata": {},
     "output_type": "execute_result"
    }
   ],
   "source": [
    "severity3 = uk.groupby(['Accident_Severity', 'Year']).size()\n",
    "severity3.unstack(level=0)"
   ]
  },
  {
   "cell_type": "code",
   "execution_count": 18,
   "id": "c5e3ea51-6543-467e-834e-ecb1074eadf6",
   "metadata": {},
   "outputs": [
    {
     "data": {
      "text/html": [
       "<div>\n",
       "<style scoped>\n",
       "    .dataframe tbody tr th:only-of-type {\n",
       "        vertical-align: middle;\n",
       "    }\n",
       "\n",
       "    .dataframe tbody tr th {\n",
       "        vertical-align: top;\n",
       "    }\n",
       "\n",
       "    .dataframe thead th {\n",
       "        text-align: right;\n",
       "    }\n",
       "</style>\n",
       "<table border=\"1\" class=\"dataframe\">\n",
       "  <thead>\n",
       "    <tr style=\"text-align: right;\">\n",
       "      <th></th>\n",
       "      <th>Accident_Severity</th>\n",
       "      <th>Year</th>\n",
       "      <th>0</th>\n",
       "    </tr>\n",
       "  </thead>\n",
       "  <tbody>\n",
       "    <tr>\n",
       "      <th>0</th>\n",
       "      <td>Fatal</td>\n",
       "      <td>2019</td>\n",
       "      <td>2714</td>\n",
       "    </tr>\n",
       "    <tr>\n",
       "      <th>1</th>\n",
       "      <td>Fatal</td>\n",
       "      <td>2020</td>\n",
       "      <td>2341</td>\n",
       "    </tr>\n",
       "    <tr>\n",
       "      <th>2</th>\n",
       "      <td>Fatal</td>\n",
       "      <td>2021</td>\n",
       "      <td>2057</td>\n",
       "    </tr>\n",
       "    <tr>\n",
       "      <th>3</th>\n",
       "      <td>Fatal</td>\n",
       "      <td>2022</td>\n",
       "      <td>1549</td>\n",
       "    </tr>\n",
       "    <tr>\n",
       "      <th>4</th>\n",
       "      <td>Serious</td>\n",
       "      <td>2019</td>\n",
       "      <td>24322</td>\n",
       "    </tr>\n",
       "    <tr>\n",
       "      <th>5</th>\n",
       "      <td>Serious</td>\n",
       "      <td>2020</td>\n",
       "      <td>23121</td>\n",
       "    </tr>\n",
       "    <tr>\n",
       "      <th>6</th>\n",
       "      <td>Serious</td>\n",
       "      <td>2021</td>\n",
       "      <td>21997</td>\n",
       "    </tr>\n",
       "    <tr>\n",
       "      <th>7</th>\n",
       "      <td>Serious</td>\n",
       "      <td>2022</td>\n",
       "      <td>18777</td>\n",
       "    </tr>\n",
       "    <tr>\n",
       "      <th>8</th>\n",
       "      <td>Slight</td>\n",
       "      <td>2019</td>\n",
       "      <td>155079</td>\n",
       "    </tr>\n",
       "    <tr>\n",
       "      <th>9</th>\n",
       "      <td>Slight</td>\n",
       "      <td>2020</td>\n",
       "      <td>145129</td>\n",
       "    </tr>\n",
       "    <tr>\n",
       "      <th>10</th>\n",
       "      <td>Slight</td>\n",
       "      <td>2021</td>\n",
       "      <td>139500</td>\n",
       "    </tr>\n",
       "    <tr>\n",
       "      <th>11</th>\n",
       "      <td>Slight</td>\n",
       "      <td>2022</td>\n",
       "      <td>124093</td>\n",
       "    </tr>\n",
       "  </tbody>\n",
       "</table>\n",
       "</div>"
      ],
      "text/plain": [
       "   Accident_Severity  Year       0\n",
       "0              Fatal  2019    2714\n",
       "1              Fatal  2020    2341\n",
       "2              Fatal  2021    2057\n",
       "3              Fatal  2022    1549\n",
       "4            Serious  2019   24322\n",
       "5            Serious  2020   23121\n",
       "6            Serious  2021   21997\n",
       "7            Serious  2022   18777\n",
       "8             Slight  2019  155079\n",
       "9             Slight  2020  145129\n",
       "10            Slight  2021  139500\n",
       "11            Slight  2022  124093"
      ]
     },
     "execution_count": 18,
     "metadata": {},
     "output_type": "execute_result"
    }
   ],
   "source": [
    "severity3 = uk.groupby(['Accident_Severity', 'Year']).size()\n",
    "severity3.reset_index()"
   ]
  },
  {
   "cell_type": "code",
   "execution_count": 19,
   "id": "c8fcc54f-5e0c-4f4f-afa6-0c0b20ce2db8",
   "metadata": {},
   "outputs": [
    {
     "data": {
      "image/png": "[encoded data removed]",
      "text/plain": [
       "<Figure size 1000x500 with 1 Axes>"
      ]
     },
     "metadata": {},
     "output_type": "display_data"
    }
   ],
   "source": [
    "import matplotlib.pyplot as plt\n",
    "\n",
    "# 1. Group by Year FIRST, then Month (critical order!)\n",
    "monthly_data = uk.groupby(['Year', 'Month']).size()\n",
    "\n",
    "# 2. Unstack Year to create separate lines for each year\n",
    "monthly_data = monthly_data.unstack(level=0)\n",
    "\n",
    "# 3. Plot with clean formatting (only 4 lines!)\n",
    "monthly_data.plot(\n",
    "    marker='>', \n",
    "    figsize=(10, 5),\n",
    "    title='Monthly Road Accidents by Year (2019-2022)'\n",
    ")\n",
    "plt.xticks(range(1, 13), ['Jan','Feb','Mar','Apr','May','Jun','Jul','Aug','Sep','Oct','Nov','Dec'])\n",
    "#plt.bbox_to_achor(\n",
    "plt.grid(alpha=0.5)\n",
    "plt.show()"
   ]
  },
  {
   "cell_type": "code",
   "execution_count": 20,
   "id": "a4544d3b-a3f4-49be-897b-7cc090af3b52",
   "metadata": {},
   "outputs": [],
   "source": [
    "london_uk = uk[uk['District Area'] == 'City of London']"
   ]
  },
  {
   "cell_type": "code",
   "execution_count": 21,
   "id": "55d751b8-b709-42da-9b95-9522b1cb7c04",
   "metadata": {},
   "outputs": [
    {
     "data": {
      "image/png": "[encoded data removed]",
      "text/plain": [
       "<Figure size 1000x500 with 1 Axes>"
      ]
     },
     "metadata": {},
     "output_type": "display_data"
    }
   ],
   "source": [
    "# 1. Group by Year FIRST, then Month (critical order!)\n",
    "monthly_data = london_uk.groupby(['Year', 'Month']).size()\n",
    "\n",
    "# 2. Unstack Year to create separate lines for each year\n",
    "monthly_data = monthly_data.unstack(level=0)\n",
    "\n",
    "# 3. Plot with clean formatting (only 4 lines!)\n",
    "monthly_data.plot(\n",
    "    marker='>', \n",
    "    figsize=(10, 5),\n",
    "    title='Monthly Road Accidents by Year (2019-2022)'\n",
    ")\n",
    "plt.xticks(range(1, 13), ['Jan','Feb','Mar','Apr','May','Jun','Jul','Aug','Sep','Oct','Nov','Dec'])\n",
    "#plt.bbox_to_achor(\n",
    "plt.grid(alpha=0.5)\n",
    "plt.show()"
   ]
  },
  {
   "cell_type": "code",
   "execution_count": 22,
   "id": "fda362ac-69e0-4107-93fd-84ca85917704",
   "metadata": {},
   "outputs": [
    {
     "data": {
      "text/plain": [
       "['Kensington and Chelsea', 'Westminster', 'Richmond upon Thames', 'Hammersmith and Fulham', 'Hounslow', ..., 'County Durham', 'Shropshire', 'Central Bedfordshire', 'Cornwall', 'Wiltshire']\n",
       "Length: 422\n",
       "Categories (422, object): ['Aberdeen City', 'Aberdeenshire', 'Adur', 'Allerdale', ..., 'Wycombe', 'Wyre', 'Wyre Forest', 'York']"
      ]
     },
     "execution_count": 22,
     "metadata": {},
     "output_type": "execute_result"
    }
   ],
   "source": [
    "uk['District Area'].unique()"
   ]
  },
  {
   "cell_type": "markdown",
   "id": "c708e339-c1c8-46ee-956b-0042742609a9",
   "metadata": {},
   "source": [
    "<h1>PIE CHART IN MATPLOTLIB </h1>"
   ]
  },
  {
   "cell_type": "code",
   "execution_count": 23,
   "id": "bf209ed4-11a4-46c6-bd60-46c688b03d68",
   "metadata": {},
   "outputs": [],
   "source": [
    "severity = uk['Accident_Severity'].value_counts()"
   ]
  },
  {
   "cell_type": "code",
   "execution_count": 24,
   "id": "b1a541ce-b50f-42e1-9ec6-815983715437",
   "metadata": {},
   "outputs": [
    {
     "data": {
      "text/plain": [
       "CategoricalIndex(['Slight', 'Serious', 'Fatal'], categories=['Fatal', 'Serious', 'Slight'], ordered=False, dtype='category', name='Accident_Severity')"
      ]
     },
     "execution_count": 24,
     "metadata": {},
     "output_type": "execute_result"
    }
   ],
   "source": [
    "severity.index"
   ]
  },
  {
   "cell_type": "code",
   "execution_count": 25,
   "id": "efd33c5a-3722-4481-8f87-7326aa036fd5",
   "metadata": {},
   "outputs": [
    {
     "data": {
      "text/plain": [
       "array([563801,  88217,   8661])"
      ]
     },
     "execution_count": 25,
     "metadata": {},
     "output_type": "execute_result"
    }
   ],
   "source": [
    "severity.values"
   ]
  },
  {
   "cell_type": "code",
   "execution_count": 26,
   "id": "cfca4334-d741-41ef-9316-f15bba747601",
   "metadata": {},
   "outputs": [
    {
     "data": {
      "image/png": "[encoded data removed]",
      "text/plain": [
       "<Figure size 640x480 with 1 Axes>"
      ]
     },
     "metadata": {},
     "output_type": "display_data"
    }
   ],
   "source": [
    "plt.pie(severity, \n",
    "        labels = severity.index,\n",
    "        startangle= 90,\n",
    "        autopct = '%1.1f%%',\n",
    "        colors = ['Peru','Cornflowerblue','Darksalmon'])\n",
    "plt.show()"
   ]
  },
  {
   "cell_type": "markdown",
   "id": "fd5fd5b5-657d-421a-89b0-4b378036acb9",
   "metadata": {},
   "source": [
    "<h3>Explanatory Data Analytics</h3>\n"
   ]
  },
  {
   "cell_type": "markdown",
   "id": "faa7e2fb-c72b-41d4-969e-1ad61f7d3438",
   "metadata": {},
   "source": [
    "<h4>QUESTION #1</h4>\n",
    "<H5>What is the distribution of accident severities (Fatal, Serious, Slight) in the dataset?\n",
    "</H5>"
   ]
  },
  {
   "cell_type": "code",
   "execution_count": 27,
   "id": "e5dccd89-e0ab-4912-8361-7afc1df11615",
   "metadata": {},
   "outputs": [
    {
     "data": {
      "image/png": "[encoded data removed]",
      "text/plain": [
       "<Figure size 800x500 with 1 Axes>"
      ]
     },
     "metadata": {},
     "output_type": "display_data"
    },
    {
     "data": {
      "text/plain": [
       "{'Slight': 563801, 'Serious': 88217, 'Fatal': 8661}"
      ]
     },
     "execution_count": 27,
     "metadata": {},
     "output_type": "execute_result"
    }
   ],
   "source": [
    "severity_distribution = uk['Accident_Severity'].value_counts()\n",
    "severity_distribution\n",
    "\n",
    "severity_distribution = {\n",
    "    'Slight': 563801,\n",
    "    'Serious': 88217,\n",
    "    'Fatal': 8661\n",
    "}\n",
    " \n",
    "labels = list(severity_distribution.keys())\n",
    "counts = list(severity_distribution.values())\n",
    "\n",
    "plt.figure(figsize=(8,5))\n",
    "plt.bar(labels, counts, color=['green', 'orange', 'red'])\n",
    "plt.title('Accident Severity Distribution')\n",
    "plt.xlabel('Accident Severity')\n",
    "plt.ylabel('Number of Accidents')\n",
    "plt.show()\n",
    "severity_distribution\n"
   ]
  },
  {
   "cell_type": "markdown",
   "id": "67f0897b-6bb7-4d7a-bd2f-f7a14219102b",
   "metadata": {},
   "source": [
    "<H4>INSIGHT #1</H4>\n",
    "<h5>The proportion of different accident severities shown above helps in prioritizing safety measures.</h5>"
   ]
  },
  {
   "cell_type": "markdown",
   "id": "e2070261-d96c-4d17-8c4d-13532e5e6de7",
   "metadata": {},
   "source": [
    "<h4>QUESTION #2</h4>\n",
    "<H5>Which district areas have the highest and lowest number of accidents?</H5>"
   ]
  },
  {
   "cell_type": "code",
   "execution_count": 28,
   "id": "23f0b3f8-b36e-4a5f-90dd-120f73aeac8f",
   "metadata": {},
   "outputs": [
    {
     "data": {
      "text/plain": [
       "District Area\n",
       "Birmingham            13491\n",
       "Leeds                  8898\n",
       "Manchester             6720\n",
       "Bradford               6212\n",
       "Sheffield              5710\n",
       "                      ...  \n",
       "Berwick-upon-Tweed      153\n",
       "Teesdale                142\n",
       "Shetland Islands        133\n",
       "Orkney Islands          117\n",
       "Clackmannanshire         91\n",
       "Name: count, Length: 422, dtype: int64"
      ]
     },
     "execution_count": 28,
     "metadata": {},
     "output_type": "execute_result"
    }
   ],
   "source": [
    "accidents_by_district = uk['District Area'].value_counts()\n",
    "accidents_by_district"
   ]
  },
  {
   "cell_type": "markdown",
   "id": "12a04617-e9df-4fdd-9800-a9826dc44a78",
   "metadata": {},
   "source": [
    "<H4>INSIGHT #2</H4>\n",
    "<h5>The result above identifies Birmingham as the area with highest accidents while Clackmannanshire as the area with the lowest accident cases.This can help guide targeted interventions and resource allocation.</h5>"
   ]
  },
  {
   "cell_type": "markdown",
   "id": "d4b052f2-d0fb-4ed7-9c8e-24fe7acc3505",
   "metadata": {},
   "source": [
    "<h4>QUESTION #3</h4>\n",
    "<H5>What is the average number of  casualties per accident?</H5>"
   ]
  },
  {
   "cell_type": "code",
   "execution_count": 29,
   "id": "5e40f11d-627b-47fc-90ee-3957eaa6ff96",
   "metadata": {},
   "outputs": [
    {
     "data": {
      "text/plain": [
       "np.float64(1.357040257068864)"
      ]
     },
     "execution_count": 29,
     "metadata": {},
     "output_type": "execute_result"
    }
   ],
   "source": [
    "avg_casualties = uk['Number_of_Casualties'].mean()\n",
    "avg_casualties"
   ]
  },
  {
   "cell_type": "markdown",
   "id": "906e5a82-ac62-427c-aa9c-544b6f6adc2e",
   "metadata": {},
   "source": [
    "<H4>INSIGHT #3</H4>\n",
    "<h5>The average casualty count of about 1.36 per accident shows that accidents frequently involve multiple victims, emphasizing the need for comprehensive safety strategies and emergency response planning.\n",
    "</h5>"
   ]
  },
  {
   "cell_type": "markdown",
   "id": "bf621dee-c0aa-4108-8b28-d89e8ef82d19",
   "metadata": {},
   "source": [
    "<h4>QUESTION #4</h4>\n",
    "<H5>What is the average number of vehicles involved in each accident?</H5>"
   ]
  },
  {
   "cell_type": "code",
   "execution_count": 30,
   "id": "72d53c34-ee22-4e15-8839-2dc86d541b67",
   "metadata": {},
   "outputs": [
    {
     "data": {
      "text/plain": [
       "np.float64(1.8312554205597575)"
      ]
     },
     "execution_count": 30,
     "metadata": {},
     "output_type": "execute_result"
    }
   ],
   "source": [
    "avg_vehicles = uk['Number_of_Vehicles'].mean()\n",
    "avg_vehicles"
   ]
  },
  {
   "cell_type": "markdown",
   "id": "5694ff47-5a55-4d88-9f11-ee81349f7a6e",
   "metadata": {},
   "source": [
    "<H4>INSIGHT #4</H4>\n",
    "<h5>An average of about 1.83 vehicles per accident suggests that most accidents involve more than one vehicle, highlighting the importance of focusing on multi-vehicle collision prevention and response strategies.</h5>"
   ]
  },
  {
   "cell_type": "markdown",
   "id": "e60b284d-538b-4e48-9160-39043f95eb49",
   "metadata": {},
   "source": [
    "<h4>QUESTION #5</h4>\n",
    "<H5>How do various road surface conditions influence the number of accidents?</H5>"
   ]
  },
  {
   "cell_type": "code",
   "execution_count": 31,
   "id": "98b6962b-5347-4303-a821-bc5820bb233e",
   "metadata": {},
   "outputs": [
    {
     "data": {
      "text/plain": [
       "Road_Surface_Conditions\n",
       "Dry                     448547\n",
       "Wet or damp             186708\n",
       "Frost or ice             18517\n",
       "Snow                      5890\n",
       "Flood over 3cm. deep      1017\n",
       "Name: count, dtype: int64"
      ]
     },
     "execution_count": 31,
     "metadata": {},
     "output_type": "execute_result"
    }
   ],
   "source": [
    "accidents_by_road_surface = uk['Road_Surface_Conditions'].value_counts()\n",
    "accidents_by_road_surface"
   ]
  },
  {
   "cell_type": "markdown",
   "id": "661de454-32f4-4abf-92a3-fb5711b94c50",
   "metadata": {},
   "source": [
    "<H4>INSIGHT #5</H4>\n",
    "<h5>The result above shows that road surface conditions strongly influence accident frequency and risk. Dry surfaces has the highestnumber of accidents more likely because dry conditions are the most common. This means most driving happens on dry roads so naturally most accidents occur there.While other surfaces also have an alarming number of accidents, fafety measures such as improved road maintenance, driver warnings, and cautious driving behavior are critical during adverse surface conditions.\n",
    "\n",
    "\n",
    "</h5>"
   ]
  },
  {
   "cell_type": "markdown",
   "id": "b13b002e-7804-41bb-b76a-0d627a987b0c",
   "metadata": {},
   "source": [
    "<h4>QUESTION #6</h4>\n",
    "<H5>Is there a significant difference in the number of accidents between urban and rural areas?</H5>"
   ]
  },
  {
   "cell_type": "code",
   "execution_count": 32,
   "id": "c4f3fbfc-3ad5-4762-aa47-82bc4c3f5f85",
   "metadata": {},
   "outputs": [
    {
     "data": {
      "text/plain": [
       "Urban_or_Rural_Area\n",
       "Urban          421678\n",
       "Rural          238990\n",
       "Unallocated        11\n",
       "Name: count, dtype: int64"
      ]
     },
     "execution_count": 32,
     "metadata": {},
     "output_type": "execute_result"
    }
   ],
   "source": [
    "urban_rural_accidents = uk['Urban_or_Rural_Area'].value_counts()\n",
    "urban_rural_accidents"
   ]
  },
  {
   "cell_type": "markdown",
   "id": "c1b666b9-3427-4ea1-b5d0-f4993e08cc2f",
   "metadata": {},
   "source": [
    "<H4>INSIGHT #6</H4>\n",
    "<h5>The number of accidents in urban and rural areas differs significantly for about 182, 673 accidents. This difference is likely driven by higher traffic volumes and more complex road environments in urban settings.</h5>"
   ]
  },
  {
   "cell_type": "markdown",
   "id": "df16f058-305d-4d63-8173-0e8f25850ecc",
   "metadata": {},
   "source": [
    "<h4>QUESTION #7</h4>\n",
    "<H5>Which weather conditions are associated with the highest number of accidents?</H5>"
   ]
  },
  {
   "cell_type": "code",
   "execution_count": 33,
   "id": "a0e28455-c5ab-4574-a32c-6bce91269a5f",
   "metadata": {},
   "outputs": [
    {
     "data": {
      "text/plain": [
       "Weather_Conditions\n",
       "Fine no high winds       535013\n",
       "Raining no high winds     79696\n",
       "Other                     17150\n",
       "Raining + high winds       9615\n",
       "Fine + high winds          8554\n",
       "Snowing no high winds      6238\n",
       "Fog or mist                3528\n",
       "Snowing + high winds        885\n",
       "Name: count, dtype: int64"
      ]
     },
     "execution_count": 33,
     "metadata": {},
     "output_type": "execute_result"
    }
   ],
   "source": [
    "accidents_by_weather = uk['Weather_Conditions'].value_counts()\n",
    "accidents_by_weather"
   ]
  },
  {
   "cell_type": "markdown",
   "id": "e33365a1-14a3-4316-bda5-fd03d61276c6",
   "metadata": {},
   "source": [
    "<H4>INSIGHT #7</H4>\n",
    "<h5>Rhe result above shows that weather conditions strongly influence accident occurrence.Fine weather accounts for most accidents probably due to higher exposure.Meanwhile, rain, snow, fog, and high winds has increasing accident risk and require targeted safety measures.</h5>"
   ]
  },
  {
   "cell_type": "markdown",
   "id": "a6641acb-23e3-4321-9dd4-ff7d921548df",
   "metadata": {},
   "source": [
    "<h4>QUESTION #8</h4>\n",
    "<H5>What vehicle type is most frequently involved in accidents?</H5>"
   ]
  },
  {
   "cell_type": "code",
   "execution_count": 34,
   "id": "72bb7165-7e31-4157-864d-0512c51bed44",
   "metadata": {},
   "outputs": [
    {
     "data": {
      "text/plain": [
       "Vehicle_Type\n",
       "Car                                     497992\n",
       "Van / Goods 3.5 tonnes mgw or under      34160\n",
       "Bus or coach (17 or more pass seats)     25878\n",
       "Motorcycle over 500cc                    25657\n",
       "Goods 7.5 tonnes mgw and over            17307\n",
       "Name: count, dtype: int64"
      ]
     },
     "execution_count": 34,
     "metadata": {},
     "output_type": "execute_result"
    }
   ],
   "source": [
    "most_common_vehicle = uk['Vehicle_Type'].value_counts().head(5)\n",
    "most_common_vehicle"
   ]
  },
  {
   "cell_type": "markdown",
   "id": "91b47223-2b76-42a4-b0ea-c1b0aee12971",
   "metadata": {},
   "source": [
    "<H4>INSIGHT #8</H4>\n",
    "<h5>The data above indicates that cars are the most frequent type of vehicle that gets involve in accidents at UK with the total of 497,992 accidents recorded during the year that this data is recorded.</h5>"
   ]
  },
  {
   "cell_type": "markdown",
   "id": "ba2800de-f289-4969-9574-47f75efe6cdc",
   "metadata": {},
   "source": [
    "<h4>QUESTION #9</h4>\n",
    "<H5>How does accident severity vary across different road types?</H5>"
   ]
  },
  {
   "cell_type": "code",
   "execution_count": 35,
   "id": "fbde52e8-ca13-4327-920d-48ee11faf973",
   "metadata": {},
   "outputs": [
    {
     "data": {
      "text/html": [
       "<div>\n",
       "<style scoped>\n",
       "    .dataframe tbody tr th:only-of-type {\n",
       "        vertical-align: middle;\n",
       "    }\n",
       "\n",
       "    .dataframe tbody tr th {\n",
       "        vertical-align: top;\n",
       "    }\n",
       "\n",
       "    .dataframe thead th {\n",
       "        text-align: right;\n",
       "    }\n",
       "</style>\n",
       "<table border=\"1\" class=\"dataframe\">\n",
       "  <thead>\n",
       "    <tr style=\"text-align: right;\">\n",
       "      <th>Accident_Severity</th>\n",
       "      <th>Fatal</th>\n",
       "      <th>Serious</th>\n",
       "      <th>Slight</th>\n",
       "    </tr>\n",
       "    <tr>\n",
       "      <th>Road_Type</th>\n",
       "      <th></th>\n",
       "      <th></th>\n",
       "      <th></th>\n",
       "    </tr>\n",
       "  </thead>\n",
       "  <tbody>\n",
       "    <tr>\n",
       "      <th>Dual carriageway</th>\n",
       "      <td>1815</td>\n",
       "      <td>11746</td>\n",
       "      <td>85863</td>\n",
       "    </tr>\n",
       "    <tr>\n",
       "      <th>One way street</th>\n",
       "      <td>95</td>\n",
       "      <td>1655</td>\n",
       "      <td>11809</td>\n",
       "    </tr>\n",
       "    <tr>\n",
       "      <th>Roundabout</th>\n",
       "      <td>142</td>\n",
       "      <td>3665</td>\n",
       "      <td>40185</td>\n",
       "    </tr>\n",
       "    <tr>\n",
       "      <th>Single carriageway</th>\n",
       "      <td>6560</td>\n",
       "      <td>70540</td>\n",
       "      <td>419563</td>\n",
       "    </tr>\n",
       "    <tr>\n",
       "      <th>Slip road</th>\n",
       "      <td>49</td>\n",
       "      <td>611</td>\n",
       "      <td>6381</td>\n",
       "    </tr>\n",
       "  </tbody>\n",
       "</table>\n",
       "</div>"
      ],
      "text/plain": [
       "Accident_Severity   Fatal  Serious  Slight\n",
       "Road_Type                                 \n",
       "Dual carriageway     1815    11746   85863\n",
       "One way street         95     1655   11809\n",
       "Roundabout            142     3665   40185\n",
       "Single carriageway   6560    70540  419563\n",
       "Slip road              49      611    6381"
      ]
     },
     "execution_count": 35,
     "metadata": {},
     "output_type": "execute_result"
    }
   ],
   "source": [
    "severity_by_road_type = uk.groupby('Road_Type')['Accident_Severity'].value_counts().unstack(fill_value=0)\n",
    "severity_by_road_type"
   ]
  },
  {
   "cell_type": "markdown",
   "id": "9d717027-4cfb-4a7e-9569-a7d3674d288e",
   "metadata": {},
   "source": [
    "<H4>INSIGHT #9</H4>\n",
    "<h5>It is evident that accident severity varies by road type, with single carriageways having the highest counts of fatal, serious, and slight accidents.Dual carriageways have fewer accidents but still significant numbers, mostly slight severity.Roundabouts, one-way streets, and slip roads have fewer and generally less severe accidents.Overall, road design and traffic flow is likely to influence accident severity patterns.</h5>"
   ]
  },
  {
   "cell_type": "markdown",
   "id": "c6450bb6-44ac-491c-b424-aacca32f26c0",
   "metadata": {},
   "source": [
    "<h4>QUESTION #10</h4>\n",
    "<H5>How does accident severity vary under different weather conditions?</H5>"
   ]
  },
  {
   "cell_type": "code",
   "execution_count": 36,
   "id": "e69ad7ff-fca1-45f1-9e7b-9b40c408a548",
   "metadata": {},
   "outputs": [
    {
     "data": {
      "text/html": [
       "<div>\n",
       "<style scoped>\n",
       "    .dataframe tbody tr th:only-of-type {\n",
       "        vertical-align: middle;\n",
       "    }\n",
       "\n",
       "    .dataframe tbody tr th {\n",
       "        vertical-align: top;\n",
       "    }\n",
       "\n",
       "    .dataframe thead th {\n",
       "        text-align: right;\n",
       "    }\n",
       "</style>\n",
       "<table border=\"1\" class=\"dataframe\">\n",
       "  <thead>\n",
       "    <tr style=\"text-align: right;\">\n",
       "      <th>Accident_Severity</th>\n",
       "      <th>Fatal</th>\n",
       "      <th>Serious</th>\n",
       "      <th>Slight</th>\n",
       "    </tr>\n",
       "    <tr>\n",
       "      <th>Weather_Conditions</th>\n",
       "      <th></th>\n",
       "      <th></th>\n",
       "      <th></th>\n",
       "    </tr>\n",
       "  </thead>\n",
       "  <tbody>\n",
       "    <tr>\n",
       "      <th>Fine + high winds</th>\n",
       "      <td>175</td>\n",
       "      <td>1245</td>\n",
       "      <td>7134</td>\n",
       "    </tr>\n",
       "    <tr>\n",
       "      <th>Fine no high winds</th>\n",
       "      <td>7207</td>\n",
       "      <td>73285</td>\n",
       "      <td>454521</td>\n",
       "    </tr>\n",
       "    <tr>\n",
       "      <th>Fog or mist</th>\n",
       "      <td>82</td>\n",
       "      <td>483</td>\n",
       "      <td>2963</td>\n",
       "    </tr>\n",
       "    <tr>\n",
       "      <th>Other</th>\n",
       "      <td>165</td>\n",
       "      <td>1801</td>\n",
       "      <td>15184</td>\n",
       "    </tr>\n",
       "    <tr>\n",
       "      <th>Raining + high winds</th>\n",
       "      <td>145</td>\n",
       "      <td>1261</td>\n",
       "      <td>8209</td>\n",
       "    </tr>\n",
       "    <tr>\n",
       "      <th>Raining no high winds</th>\n",
       "      <td>848</td>\n",
       "      <td>9468</td>\n",
       "      <td>69380</td>\n",
       "    </tr>\n",
       "    <tr>\n",
       "      <th>Snowing + high winds</th>\n",
       "      <td>3</td>\n",
       "      <td>109</td>\n",
       "      <td>773</td>\n",
       "    </tr>\n",
       "    <tr>\n",
       "      <th>Snowing no high winds</th>\n",
       "      <td>36</td>\n",
       "      <td>565</td>\n",
       "      <td>5637</td>\n",
       "    </tr>\n",
       "  </tbody>\n",
       "</table>\n",
       "</div>"
      ],
      "text/plain": [
       "Accident_Severity      Fatal  Serious  Slight\n",
       "Weather_Conditions                           \n",
       "Fine + high winds        175     1245    7134\n",
       "Fine no high winds      7207    73285  454521\n",
       "Fog or mist               82      483    2963\n",
       "Other                    165     1801   15184\n",
       "Raining + high winds     145     1261    8209\n",
       "Raining no high winds    848     9468   69380\n",
       "Snowing + high winds       3      109     773\n",
       "Snowing no high winds     36      565    5637"
      ]
     },
     "execution_count": 36,
     "metadata": {},
     "output_type": "execute_result"
    }
   ],
   "source": [
    "severity_by_weather = uk.groupby('Weather_Conditions')['Accident_Severity'].value_counts().unstack(fill_value=0)\n",
    "severity_by_weather"
   ]
  },
  {
   "cell_type": "markdown",
   "id": "1ae1cd0a-ffd8-4f9b-b4bf-ada946ee6722",
   "metadata": {},
   "source": [
    "<H4>INSIGHT #10</H4>\n",
    "<h5>Accident severity varies with weather conditions, with fine weather showing the highest number of accidents.This is expected since most driving happens in good weather conditions, leading to higher exposure.Adverse weather conditions (rain, fog, snow, high winds) are associated with a higher proportion of serious and fatal accidents relative to their frequency.Drivers should exercise increased caution during adverse weather to reduce accident severity.Road safety measures and warnings should target these higher-risk weather conditions.</h5>"
   ]
  },
  {
   "cell_type": "markdown",
   "id": "2e5129d5-c6d0-42b0-b7db-edcf4dcc74f0",
   "metadata": {},
   "source": [
    "<h4>QUESTION #11</h4>\n",
    "<H5>How does accident severity vary under different light condition?</H5>"
   ]
  },
  {
   "cell_type": "code",
   "execution_count": 37,
   "id": "e9aa41e2-e7a2-4ae1-a61a-cfdafe5de48e",
   "metadata": {},
   "outputs": [
    {
     "data": {
      "text/html": [
       "<div>\n",
       "<style scoped>\n",
       "    .dataframe tbody tr th:only-of-type {\n",
       "        vertical-align: middle;\n",
       "    }\n",
       "\n",
       "    .dataframe tbody tr th {\n",
       "        vertical-align: top;\n",
       "    }\n",
       "\n",
       "    .dataframe thead th {\n",
       "        text-align: right;\n",
       "    }\n",
       "</style>\n",
       "<table border=\"1\" class=\"dataframe\">\n",
       "  <thead>\n",
       "    <tr style=\"text-align: right;\">\n",
       "      <th>Accident_Severity</th>\n",
       "      <th>Fatal</th>\n",
       "      <th>Serious</th>\n",
       "      <th>Slight</th>\n",
       "    </tr>\n",
       "    <tr>\n",
       "      <th>Light_Conditions</th>\n",
       "      <th></th>\n",
       "      <th></th>\n",
       "      <th></th>\n",
       "    </tr>\n",
       "  </thead>\n",
       "  <tbody>\n",
       "    <tr>\n",
       "      <th>Darkness - lighting unknown</th>\n",
       "      <td>68</td>\n",
       "      <td>794</td>\n",
       "      <td>5622</td>\n",
       "    </tr>\n",
       "    <tr>\n",
       "      <th>Darkness - lights lit</th>\n",
       "      <td>1860</td>\n",
       "      <td>19130</td>\n",
       "      <td>108345</td>\n",
       "    </tr>\n",
       "    <tr>\n",
       "      <th>Darkness - lights unlit</th>\n",
       "      <td>45</td>\n",
       "      <td>360</td>\n",
       "      <td>2138</td>\n",
       "    </tr>\n",
       "    <tr>\n",
       "      <th>Darkness - no lighting</th>\n",
       "      <td>1612</td>\n",
       "      <td>7174</td>\n",
       "      <td>28651</td>\n",
       "    </tr>\n",
       "    <tr>\n",
       "      <th>Daylight</th>\n",
       "      <td>5076</td>\n",
       "      <td>60759</td>\n",
       "      <td>419045</td>\n",
       "    </tr>\n",
       "  </tbody>\n",
       "</table>\n",
       "</div>"
      ],
      "text/plain": [
       "Accident_Severity            Fatal  Serious  Slight\n",
       "Light_Conditions                                   \n",
       "Darkness - lighting unknown     68      794    5622\n",
       "Darkness - lights lit         1860    19130  108345\n",
       "Darkness - lights unlit         45      360    2138\n",
       "Darkness - no lighting        1612     7174   28651\n",
       "Daylight                      5076    60759  419045"
      ]
     },
     "execution_count": 37,
     "metadata": {},
     "output_type": "execute_result"
    }
   ],
   "source": [
    "severity_by_light = uk.groupby('Light_Conditions')['Accident_Severity'].value_counts().unstack(fill_value=0)\n",
    "severity_by_light"
   ]
  },
  {
   "cell_type": "markdown",
   "id": "05865cba-4f16-4dff-9d3d-ff52d6a0cee3",
   "metadata": {},
   "source": [
    "<H4>INSIGHT #11</H4>\n",
    "<h5>Accident severity varies with light conditions, with most accidents occurring during daylight due to exposure.Darkness, especially with no lighting or lights lit, is associated with a higher proportion of fatal and serious accidents relative to daylight.Poor visibility in darkness likely contributes to increased accident severity.Improving road lighting and driver awareness during dark conditions could help reduce accident severity.</h5>"
   ]
  },
  {
   "cell_type": "markdown",
   "id": "fbda1ea8-e1af-4cdf-87bc-ba7e707782a2",
   "metadata": {},
   "source": [
    "<h4>QUESTION #12</h4>\n",
    "<H5>What are the top 5 district areas with the highest number of seious accidents?</H5>"
   ]
  },
  {
   "cell_type": "code",
   "execution_count": 38,
   "id": "1a3e685b-0f18-4ada-a11e-9a24f8a12c11",
   "metadata": {},
   "outputs": [
    {
     "data": {
      "text/plain": [
       "District Area\n",
       "Birmingham                   1474\n",
       "Leeds                        1147\n",
       "Westminster                   926\n",
       "Bradford                      802\n",
       "Sheffield                     749\n",
       "                             ... \n",
       "Oswestry                       23\n",
       "Orkney Islands                 19\n",
       "Clackmannanshire               18\n",
       "Shetland Islands               15\n",
       "London Airport (Heathrow)       9\n",
       "Name: count, Length: 422, dtype: int64"
      ]
     },
     "execution_count": 38,
     "metadata": {},
     "output_type": "execute_result"
    }
   ],
   "source": [
    "serious_accidents_by_district = uk[uk['Accident_Severity'] == 'Serious']['District Area'].value_counts()\n",
    "serious_accidents_by_district"
   ]
  },
  {
   "cell_type": "markdown",
   "id": "6bae3725-77f9-48a0-ac14-fbbfe3ad61f0",
   "metadata": {},
   "source": [
    "<H4>INSIGHT #12</H4>\n",
    "<h5>The data above shows that the top 5 district areas with highest number of serious accidents are Birmingham, Leeds, Westminster, Bradford, and Sheffield respectively.</h5>"
   ]
  },
  {
   "cell_type": "markdown",
   "id": "0fc528fa-d0bc-4702-be61-e48312f2c188",
   "metadata": {},
   "source": [
    "<h4>QUESTION #13</h4>\n",
    "<H5>Which vehicle type contribute to the highest total number of casualties?</H5>"
   ]
  },
  {
   "cell_type": "code",
   "execution_count": 39,
   "id": "eb3a9a5d-8d95-4ee9-ab00-e92a4526bca1",
   "metadata": {},
   "outputs": [
    {
     "data": {
      "text/plain": [
       "Vehicle_Type\n",
       "Car                                      676692\n",
       "Van / Goods 3.5 tonnes mgw or under       46271\n",
       "Bus or coach (17 or more pass seats)      34915\n",
       "Motorcycle over 500cc                     34879\n",
       "Goods 7.5 tonnes mgw and over             23397\n",
       "Motorcycle 125cc and under                20348\n",
       "Taxi/Private hire car                     18195\n",
       "Motorcycle over 125cc and up to 500cc     10286\n",
       "Motorcycle 50cc and under                 10167\n",
       "Goods over 3.5t. and under 7.5t            8308\n",
       "Other vehicle                              7554\n",
       "Minibus (8 - 16 passenger seats)           2659\n",
       "Agricultural vehicle                       2613\n",
       "Pedal cycle                                 270\n",
       "Data missing or out of range                  9\n",
       "Ridden horse                                  5\n",
       "Name: Number_of_Casualties, dtype: int64"
      ]
     },
     "execution_count": 39,
     "metadata": {},
     "output_type": "execute_result"
    }
   ],
   "source": [
    "casualties_by_vehicle_type = uk.groupby('Vehicle_Type')['Number_of_Casualties'].sum().sort_values(ascending=False)\n",
    "casualties_by_vehicle_type"
   ]
  },
  {
   "cell_type": "markdown",
   "id": "79a58d05-c605-4e20-822f-d644005a9167",
   "metadata": {},
   "source": [
    "<H4>INSIGHT #13</H4>\n",
    "<h5>The result shows that cars are the primary contributors to the highest number of casualties, reflecting their prevalence on roads.Vans, goods vehicles, buses, and motorcycles also contribute significantly to casualties.Targeted safety measures for these vehicle types could have the greatest impact on reducing casualties.</h5>"
   ]
  },
  {
   "cell_type": "markdown",
   "id": "a4712f9a-6720-4322-913e-d3862cbc1117",
   "metadata": {},
   "source": [
    "<h4>QUESTION #14</h4>\n",
    "<H5>How many accidents involved more than one casualties?</H5>"
   ]
  },
  {
   "cell_type": "code",
   "execution_count": 40,
   "id": "cca251a1-6221-4c92-b8c4-ba9c1c96bcf9",
   "metadata": {},
   "outputs": [
    {
     "data": {
      "text/plain": [
       "156638"
      ]
     },
     "execution_count": 40,
     "metadata": {},
     "output_type": "execute_result"
    }
   ],
   "source": [
    "multi_casualty_accidents = uk[uk['Number_of_Casualties'] > 1].shape[0]\n",
    "multi_casualty_accidents"
   ]
  },
  {
   "cell_type": "markdown",
   "id": "e8efffc5-aa61-4bfc-aa8d-0a7a9e4c0982",
   "metadata": {},
   "source": [
    "<H4>INSIGHT #14</H4>\n",
    "<h5>The data returns a total of 156,638 accidents that involved more than one casualties.</h5>"
   ]
  },
  {
   "cell_type": "markdown",
   "id": "3e9bb8d3-7ecf-440e-9b00-4c4250fd6c41",
   "metadata": {},
   "source": [
    "<h4>QUESTION #15</h4>\n",
    "<H5>How many accidents involved more than two vehicles?</H5>"
   ]
  },
  {
   "cell_type": "code",
   "execution_count": 41,
   "id": "a78f534f-27ee-428c-b2b8-79a3a1702b83",
   "metadata": {},
   "outputs": [
    {
     "data": {
      "text/plain": [
       "67897"
      ]
     },
     "execution_count": 41,
     "metadata": {},
     "output_type": "execute_result"
    }
   ],
   "source": [
    "multi_vehicle_accidents = uk[uk['Number_of_Vehicles'] > 2].shape[0]\n",
    "multi_vehicle_accidents"
   ]
  },
  {
   "cell_type": "markdown",
   "id": "7e2d14c7-66c7-4599-934d-d0c2fde0e88b",
   "metadata": {},
   "source": [
    "<H4>INSIGHT #15</H4>\n",
    "<h5>There are 67897 accidents that involves more than two vehicles</h5>"
   ]
  },
  {
   "cell_type": "markdown",
   "id": "63e2d17d-b2a6-4e6a-b8a9-2760a271e50a",
   "metadata": {},
   "source": [
    "<h4>QUESTION #16</h4>\n",
    "<H5>What are the most common road surface conditions during fatal accidents?</H5>"
   ]
  },
  {
   "cell_type": "code",
   "execution_count": 42,
   "id": "f56aeb13-b061-4561-83a2-eb0663e01da8",
   "metadata": {},
   "outputs": [
    {
     "data": {
      "text/plain": [
       "Road_Surface_Conditions\n",
       "Dry                     5790\n",
       "Wet or damp             2620\n",
       "Frost or ice             193\n",
       "Snow                      35\n",
       "Flood over 3cm. deep      23\n",
       "Name: count, dtype: int64"
      ]
     },
     "execution_count": 42,
     "metadata": {},
     "output_type": "execute_result"
    }
   ],
   "source": [
    "fatal_accidents_road_surface = uk[uk['Accident_Severity'] == 'Fatal']['Road_Surface_Conditions'].value_counts()\n",
    "fatal_accidents_road_surface"
   ]
  },
  {
   "cell_type": "markdown",
   "id": "4b87de48-3bb0-4298-b03f-a8988411a793",
   "metadata": {},
   "source": [
    "<H4>INSIGHT #16</H4>\n",
    "<h5>Dry road surfaces are the most common condition during fatal accidents, reflecting high exposure. Wet or damp conditions also contribute substantially to fatal accidents, highlighting the increased danger of reduced traction.Hazardous conditions like frost, ice, snow, and flooding cause fewer fatal accidents but represent significant risks when present.Road safety efforts should focus on driver awareness and caution during adverse surface conditions, especially wet, icy, and flooded roads.</h5>"
   ]
  },
  {
   "cell_type": "markdown",
   "id": "535f4767-d693-44e3-95bd-897ff9518de3",
   "metadata": {},
   "source": [
    "<h4>QUESTION #17</h4>\n",
    "<H5>What are the most common light conditions during fatal accidents?</H5>"
   ]
  },
  {
   "cell_type": "code",
   "execution_count": 43,
   "id": "108cf770-457f-4db3-8e98-ecd34e94b86b",
   "metadata": {},
   "outputs": [
    {
     "data": {
      "text/plain": [
       "Light_Conditions\n",
       "Daylight                       5076\n",
       "Darkness - lights lit          1860\n",
       "Darkness - no lighting         1612\n",
       "Darkness - lighting unknown      68\n",
       "Darkness - lights unlit          45\n",
       "Name: count, dtype: int64"
      ]
     },
     "execution_count": 43,
     "metadata": {},
     "output_type": "execute_result"
    }
   ],
   "source": [
    "fatal_accidents_light_conditions = uk[uk['Accident_Severity'] == 'Fatal']['Light_Conditions'].value_counts()\n",
    "fatal_accidents_light_conditions"
   ]
  },
  {
   "cell_type": "markdown",
   "id": "7660b4cf-0f8a-4310-b012-38b2dfa70a78",
   "metadata": {},
   "source": [
    "<H4>INSIGHT #17</H4>\n",
    "<h5>Most fatal accidents occur during daylight, reflecting higher traffic volume and exposure. Darkness, both with lights lit and no lighting, also accounts for a substantial number of fatal accidents, highlighting the increased risk in low visibility conditions.Improving lighting and driver awareness during dark conditions could help reduce fatal accidents.\n",
    "</h5>"
   ]
  },
  {
   "cell_type": "markdown",
   "id": "27d26676-dc6c-475b-9574-7e9c1fdaf1c3",
   "metadata": {},
   "source": [
    "<h4>QUESTION #18</h4>\n",
    "<H5>What are the most common weather conditions during serious accidents?</H5>"
   ]
  },
  {
   "cell_type": "code",
   "execution_count": 69,
   "id": "624c2c43-0b87-4aa1-9fa5-a5b4a03e98f0",
   "metadata": {},
   "outputs": [
    {
     "data": {
      "image/png": "[encoded data removed]",
      "text/plain": [
       "<Figure size 1000x600 with 1 Axes>"
      ]
     },
     "metadata": {},
     "output_type": "display_data"
    }
   ],
   "source": [
    "\n",
    "\n",
    "Weather_Conditions = [\n",
    "    \"Fine no high winds\",\n",
    "    \"Raining no high winds\",\n",
    "    \"Other\",\n",
    "    \"Raining + high winds\",\n",
    "    \"Fine + high winds\",\n",
    "    \"Snowing no high winds\",\n",
    "    \"Fog or mist\",\n",
    "    \"Snowing + high winds\"\n",
    "]\n",
    "\n",
    "values = [73285, 9468, 1801, 1261, 1245, 565, 483, 109]\n",
    "\n",
    "\n",
    "plt.figure(figsize=(10, 6))\n",
    "plt.plot(Weather_Conditions, values, marker='o', linestyle='-', color='b')\n",
    "plt.xticks(rotation=45, ha='right')\n",
    "plt.title('Weather Conditions Line Graph')\n",
    "plt.xlabel('Weather_Conditions')\n",
    "plt.ylabel('Count')\n",
    "plt.tight_layout()\n",
    "plt.grid(True)\n",
    "plt.show()"
   ]
  },
  {
   "cell_type": "markdown",
   "id": "87566fc1-d7b2-4709-a311-7478fef6f46e",
   "metadata": {},
   "source": [
    "<H4>INSIGHT #18</H4>\n",
    "<h5>The most common weather condition during serious accidents is \"Fine no high winds\" with 72,046 incidents, indicating that most serious accidents occur in clear weather likely due to higher traffic volumes. Raining conditions (with or without high winds) are the next most frequent, totaling 10,729 accidents, showing that wet weather also significantly contributes to serious accidents. Other adverse conditions like snow, fog, and high winds are less common but still present risks.\n",
    "\n",
    "\n",
    "\n",
    "\n",
    "\n",
    "\n",
    "</h5>"
   ]
  },
  {
   "cell_type": "markdown",
   "id": "06611157-81f6-47f0-a38b-944e16552e87",
   "metadata": {},
   "source": [
    "<h4>QUESTION #19</h4>\n",
    "<H5>How many accidents occured in 'DRY' road surfaces?</H5>"
   ]
  },
  {
   "cell_type": "code",
   "execution_count": 45,
   "id": "365248ee-9569-4283-b9ed-bc748f68f184",
   "metadata": {},
   "outputs": [
    {
     "data": {
      "text/plain": [
       "448547"
      ]
     },
     "execution_count": 45,
     "metadata": {},
     "output_type": "execute_result"
    }
   ],
   "source": [
    "len(uk[uk['Road_Surface_Conditions'] == 'Dry'])"
   ]
  },
  {
   "cell_type": "markdown",
   "id": "72419a12-fd32-438e-b4cd-947dcb9609aa",
   "metadata": {},
   "source": [
    "<H4>INSIGHT #19</H4>\n",
    "<h5>The total number of accident that took place at dry surfaces is 448547. That huge number of accidents suggest that even dry roads does not guarantee safe driving. </h5>"
   ]
  },
  {
   "cell_type": "markdown",
   "id": "d7d7468c-9da9-4ea7-a99a-acfca53dddd1",
   "metadata": {},
   "source": [
    "<h4>QUESTION #20</h4>\n",
    "<H5>How many accidents involved a motorcycle over 500cc?</H5>"
   ]
  },
  {
   "cell_type": "code",
   "execution_count": 46,
   "id": "03468ec5-53cd-4491-a46f-f974046ad7ed",
   "metadata": {},
   "outputs": [
    {
     "data": {
      "text/plain": [
       "25657"
      ]
     },
     "execution_count": 46,
     "metadata": {},
     "output_type": "execute_result"
    }
   ],
   "source": [
    "uk[uk['Vehicle_Type'] == 'Motorcycle over 500cc'].shape[0]"
   ]
  },
  {
   "cell_type": "markdown",
   "id": "5d12fc71-b369-4126-9a07-3c92735d071b",
   "metadata": {},
   "source": [
    "<H4>INSIGHT #20</H4>\n",
    "<h5>Motorcycles over 500cc were involved in 25,657 accidents, showing their notable presence in traffic incidents. </h5>"
   ]
  },
  {
   "cell_type": "markdown",
   "id": "4af327eb-3bca-4242-9b3d-e671fd8581e4",
   "metadata": {},
   "source": [
    "<h4>QUESTION #21</h4>\n",
    "<H5>Which month has the highest number of accidents?</H5>"
   ]
  },
  {
   "cell_type": "code",
   "execution_count": 62,
   "id": "77d07c1c-27f0-438a-9fa2-d54f187ec372",
   "metadata": {
    "scrolled": true
   },
   "outputs": [
    {
     "data": {
      "image/png": "[encoded data removed]",
      "text/plain": [
       "<Figure size 1200x600 with 1 Axes>"
      ]
     },
     "metadata": {},
     "output_type": "display_data"
    }
   ],
   "source": [
    "# uk[\"Month\"] = uk[\"Accident Date\"].dt.month_name()\n",
    "# accidents_per_month = uk[\"Month\"].value_counts().sort_index()\n",
    "# accidents_per_month\n",
    "\n",
    "\n",
    "uk = pd.DataFrame(data)\n",
    "\n",
    "data = {\n",
    "    'Month': ['April', 'August', 'December', 'February', 'January', 'July', 'June', 'March', 'May', 'November', 'October', 'September'],\n",
    "    'Accidents': [51744, 53913, 51836, 49491, 52872, 57445, 56481, 54086, 56352, 60424, 59580, 56455]\n",
    "}\n",
    "\n",
    "uk_sorted = uk.sort_values('Accidents', ascending=False)\n",
    "\n",
    "plt.figure(figsize=(12, 6))\n",
    "bars = plt.bar(uk_sorted['Month'], uk_sorted['Accidents'], color='skyblue')\n",
    "plt.title('Number of Accidents by Month')\n",
    "plt.xlabel('Month')\n",
    "plt.ylabel('Number of Accidents')\n",
    "plt.xticks(rotation=45)\n",
    "\n",
    "max_accidents = uk_sorted['Accidents'].max()\n",
    "max_month = uk_sorted[uk_sorted['Accidents'] == max_accidents]['Month'].values[0]\n",
    "max_index = uk_sorted.index[uk_sorted['Accidents'] == max_accidents][0]\n",
    "# bars[max_index].set_color('orange')\n",
    "\n",
    "plt.text(max_index, max_accidents + 500, f'Highest: {max_month}', ha='center', color='orange', fontweight='bold')\n",
    "plt.show()\n"
   ]
  },
  {
   "cell_type": "markdown",
   "id": "1f34bffd-b817-43cb-a4cc-cb99d60c9b44",
   "metadata": {},
   "source": [
    "<H4>INSIGHT #21</H4>\n",
    "<h5> <strong>The highest Accident Month is November</strong>,likely due to shorter daylight hours, rainy/wet roads, and increased travel before the holidays. Other higher accident month includes <strong>October and July</strong>. Ocotber's autumn weather such as the fog, rain and darker evenings in UK may increase the risk of accidents while during July, peak summer travel and tourism acitivities increased road accidents.</h5>"
   ]
  },
  {
   "cell_type": "markdown",
   "id": "4504195e-d7e2-4f8d-b577-e91854e492f0",
   "metadata": {},
   "source": [
    "<h4>QUESTION #22</h4>\n",
    "<H5>On which day of the week do most accidents happen?</H5>"
   ]
  },
  {
   "cell_type": "code",
   "execution_count": 48,
   "id": "1b8a1878-c335-4fb0-a6f0-81cfde2fece7",
   "metadata": {},
   "outputs": [
    {
     "data": {
      "text/plain": [
       "DayOfWeek\n",
       "Saturday     107178\n",
       "Wednesday     99558\n",
       "Thursday      99511\n",
       "Friday        97900\n",
       "Tuesday       94550\n",
       "Sunday        89302\n",
       "Monday        72680\n",
       "Name: count, dtype: int64"
      ]
     },
     "execution_count": 48,
     "metadata": {},
     "output_type": "execute_result"
    }
   ],
   "source": [
    "uk[\"DayOfWeek\"] = uk[\"Accident Date\"].dt.day_name()\n",
    "accidents_per_day = uk[\"DayOfWeek\"].value_counts()\n",
    "accidents_per_day"
   ]
  },
  {
   "cell_type": "markdown",
   "id": "b0edee5c-ea23-4c23-afb2-dc51b20eb59b",
   "metadata": {},
   "source": [
    "<H4>INSIGHT #22</H4>\n",
    "<h5>The data indicates that in the UK, road accidents occur most frequently on Saturdays (107,178 cases), while Mondays report the fewest accidents (72,680 cases). This pattern reflects common travel behavior in the UK. </h5>\n",
    "    \n",
    "<h6>Insight 22.1. Saturdays often involve more leisure travel, shopping, nightlife, and long-distance trips, which increases exposure to road risks.</h6>\n",
    "<h6>Insight 22.2. Alcohol-related incidents also tend to be higher on weekends, contributing to the rise in Saturday accidents.</h6>\n",
    "<h6>Insight 22.3. Mondays have the lowest accident numbers, likely because traffic is more routine (commuting to work/school), and drivers are generally more cautious after the weekend.</h6>\n",
    "\n"
   ]
  },
  {
   "cell_type": "code",
   "execution_count": null,
   "id": "f302f0f3-91ca-4c80-a329-51249ae79488",
   "metadata": {},
   "outputs": [],
   "source": []
  },
  {
   "cell_type": "code",
   "execution_count": null,
   "id": "00c1c8fa-8193-430e-a68e-0b2d9e756344",
   "metadata": {},
   "outputs": [],
   "source": []
  }
 ],
 "metadata": {
  "kernelspec": {
   "display_name": "Python 3 (ipykernel)",
   "language": "python",
   "name": "python3"
  },
  "language_info": {
   "codemirror_mode": {
    "name": "ipython",
    "version": 3
   },
   "file_extension": ".py",
   "mimetype": "text/x-python",
   "name": "python",
   "nbconvert_exporter": "python",
   "pygments_lexer": "ipython3",
   "version": "3.13.6"
  }
 },
 "nbformat": 4,
 "nbformat_minor": 5
}
